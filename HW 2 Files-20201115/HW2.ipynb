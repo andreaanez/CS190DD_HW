{
  "nbformat": 4,
  "nbformat_minor": 0,
  "metadata": {
    "kernelspec": {
      "display_name": "Python 3",
      "language": "python",
      "name": "python3"
    },
    "language_info": {
      "codemirror_mode": {
        "name": "ipython",
        "version": 3
      },
      "file_extension": ".py",
      "mimetype": "text/x-python",
      "name": "python",
      "nbconvert_exporter": "python",
      "pygments_lexer": "ipython3",
      "version": "3.8.3"
    },
    "colab": {
      "name": "HW2.ipynb",
      "provenance": []
    }
  },
  "cells": [
    {
      "cell_type": "markdown",
      "metadata": {
        "id": "wl_vz9WrCIiG"
      },
      "source": [
        "# Homework 2\n",
        "\n",
        "**DUE NOV 11th at 11:59 PM**\n",
        "\n",
        "You are expected to turn in a **pdf version** of this notebook with all your **codes, results, and figures** (Use the print option). Make sure the figures and results are visible as you want them to appear in the pdf before turning it in. Please do not modify the instructions as doing so will limit our ability to follow and grade your answers."
      ]
    },
    {
      "cell_type": "markdown",
      "metadata": {
        "id": "mDrr0FAgCIiJ"
      },
      "source": [
        "## Problem 1 (HW1 Problem 4)\n",
        "\n",
        "In this problem, you will work on the clustering problem using Bottom-up Agglomerative clustering and K-mean clustering."
      ]
    },
    {
      "cell_type": "markdown",
      "metadata": {
        "id": "E9xb2GftCIiK"
      },
      "source": [
        "a) A 4-D dataset is given in **'iris.csv'** with the last column being the ground truth label. Load the file. Store the data in a variable ***X*** and store the label in a variable ***y***. Because clustering is an unsupervised task, there is no need for the labels during training."
      ]
    },
    {
      "cell_type": "code",
      "metadata": {
        "id": "JwZMjLUKCIiK"
      },
      "source": [
        "import numpy as np\n",
        "import pandas as pd\n",
        "import matplotlib.pyplot as plt\n",
        "\n",
        "data = pd.read_csv('iris.csv',header = None)\n",
        "X = data[range(4)].values\n",
        "y = data[4].values\n"
      ],
      "execution_count": 191,
      "outputs": []
    },
    {
      "cell_type": "markdown",
      "metadata": {
        "id": "HfIGydvyCIiO"
      },
      "source": [
        "b) Train a clustering model using Bottom-up Agglomerative clustering."
      ]
    },
    {
      "cell_type": "markdown",
      "metadata": {
        "id": "vHDQuETMCIiR"
      },
      "source": [
        "Visualize your clusters on a 2-D plot. Choose any 2 dimensions from the 4 dimensions to plot. Try to pick the 2 dimensions that best separate the data. Your plot should contains all the data points with points from the same predicted cluster haveing the same color. "
      ]
    },
    {
      "cell_type": "code",
      "metadata": {
        "id": "NvtDOglfCIiP"
      },
      "source": [
        "from sklearn.cluster import AgglomerativeClustering\n",
        "clustering = AgglomerativeClustering(n_clusters=3,affinity=\"euclidean\",linkage=\"ward\")\n",
        "clustering.fit(X)\n",
        "labels=clustering.labels_"
      ],
      "execution_count": 195,
      "outputs": []
    },
    {
      "cell_type": "code",
      "metadata": {
        "id": "VBJqn3osCIiS",
        "outputId": "13535978-921f-4a4f-ca37-0bd4ff4a87a3",
        "colab": {
          "base_uri": "https://localhost:8080/",
          "height": 500
        }
      },
      "source": [
        "plt.figure(figsize=(12,8))\n",
        "plt.scatter(X[labels==0,3],X[labels==0,2],color='yellow')\n",
        "plt.scatter(X[labels==1,3],X[labels==1,2],color='blue')\n",
        "plt.scatter(X[labels==2,3],X[labels==2,2],color='red')"
      ],
      "execution_count": 196,
      "outputs": [
        {
          "output_type": "execute_result",
          "data": {
            "text/plain": [
              "<matplotlib.collections.PathCollection at 0x7f118f4eb668>"
            ]
          },
          "metadata": {
            "tags": []
          },
          "execution_count": 196
        },
        {
          "output_type": "display_data",
          "data": {
            "image/png": "[encoded data removed]",
            "text/plain": [
              "<Figure size 864x576 with 1 Axes>"
            ]
          },
          "metadata": {
            "tags": [],
            "needs_background": "light"
          }
        }
      ]
    },
    {
      "cell_type": "markdown",
      "metadata": {
        "id": "byzP7znPCIiU"
      },
      "source": [
        "Repeat the visualization step above using the same 2 dimensions. This time, plot according to the ground truth classes. Comment on the performance of your model."
      ]
    },
    {
      "cell_type": "code",
      "metadata": {
        "id": "f4sTb1kkCIiV",
        "outputId": "195d92cb-df34-4d21-88e6-e7609f30de99",
        "colab": {
          "base_uri": "https://localhost:8080/",
          "height": 500
        }
      },
      "source": [
        "plt.figure(figsize=(12,8))\n",
        "plt.scatter(data[data[4]==\"Versicolor\"][3],data[data[4]==\"Versicolor\"][2],color='yellow')\n",
        "plt.scatter(data[data[4]==\"Virginica\"][3],data[data[4]==\"Virginica\"][2],color='red')\n",
        "plt.scatter(data[data[4]==\"Setosa\"][3],data[data[4]==\"Setosa\"][2],s=50,color=\"blue\")\n",
        "\n",
        "# As two graphs almost align, the performance is good especailly for Setosa, Versicolor and Virginica have some overlaps for three points."
      ],
      "execution_count": 6,
      "outputs": [
        {
          "output_type": "execute_result",
          "data": {
            "text/plain": [
              "<matplotlib.collections.PathCollection at 0x7f1191a00d30>"
            ]
          },
          "metadata": {
            "tags": []
          },
          "execution_count": 6
        },
        {
          "output_type": "display_data",
          "data": {
            "image/png": "[encoded data removed]",
            "text/plain": [
              "<Figure size 864x576 with 1 Axes>"
            ]
          },
          "metadata": {
            "tags": [],
            "needs_background": "light"
          }
        }
      ]
    },
    {
      "cell_type": "markdown",
      "metadata": {
        "id": "0mRiSr4HCIiX"
      },
      "source": [
        "c) Train a clustering model using K-mean clustering."
      ]
    },
    {
      "cell_type": "code",
      "metadata": {
        "id": "8ZUkNU12CIiX"
      },
      "source": [
        "from sklearn.cluster import KMeans\n",
        "\n",
        "kmeans = KMeans(n_clusters=3, random_state=0).fit(X)\n",
        "klabels = kmeans.labels_"
      ],
      "execution_count": 7,
      "outputs": []
    },
    {
      "cell_type": "markdown",
      "metadata": {
        "id": "QyhNdjdoCIia"
      },
      "source": [
        "Visualize your clusters on a 2-D plot. Choose any 2 dimensions from the 4 dimensions to plot. Try to pick the 2 dimensions that best separate the data. Your plot should contains all the data points with points from the same predicted cluster haveing the same color."
      ]
    },
    {
      "cell_type": "code",
      "metadata": {
        "id": "61YP4QUJCIia",
        "outputId": "f6f64f84-d132-4dfc-871a-d56c85c6571f",
        "colab": {
          "base_uri": "https://localhost:8080/",
          "height": 500
        }
      },
      "source": [
        "plt.figure(figsize=(12,8))\n",
        "plt.scatter(X[klabels==0,3],X[klabels==0,2],color='red')\n",
        "plt.scatter(X[klabels==1,3],X[klabels==1,2],color='blue')\n",
        "plt.scatter(X[klabels==2,3],X[klabels==2,2],color='yellow')"
      ],
      "execution_count": 8,
      "outputs": [
        {
          "output_type": "execute_result",
          "data": {
            "text/plain": [
              "<matplotlib.collections.PathCollection at 0x7f1191979cc0>"
            ]
          },
          "metadata": {
            "tags": []
          },
          "execution_count": 8
        },
        {
          "output_type": "display_data",
          "data": {
            "image/png": "[encoded data removed]",
            "text/plain": [
              "<Figure size 864x576 with 1 Axes>"
            ]
          },
          "metadata": {
            "tags": [],
            "needs_background": "light"
          }
        }
      ]
    },
    {
      "cell_type": "markdown",
      "metadata": {
        "id": "DSeoAO5DCIic"
      },
      "source": [
        "Repeat the visualization step above using the same 2 dimensions. This time, plot according to the ground truth classes. Comment on the performance of your model."
      ]
    },
    {
      "cell_type": "code",
      "metadata": {
        "id": "BjJWIshbCIid",
        "outputId": "b0f8cc39-1332-4a10-8526-808df62c74ed",
        "colab": {
          "base_uri": "https://localhost:8080/",
          "height": 500
        }
      },
      "source": [
        "plt.figure(figsize=(12,8))\n",
        "plt.scatter(data[data[4]==\"Versicolor\"][3],data[data[4]==\"Versicolor\"][2],color='yellow')\n",
        "plt.scatter(data[data[4]==\"Virginica\"][3],data[data[4]==\"Virginica\"][2],color='red')\n",
        "plt.scatter(data[data[4]==\"Setosa\"][3],data[data[4]==\"Setosa\"][2],s=50,color=\"blue\")\n",
        "\n",
        "# As two graphs almost align, the performance is good especailly for Setosa. Versicolor and Virginica have some overlaps for three points."
      ],
      "execution_count": 9,
      "outputs": [
        {
          "output_type": "execute_result",
          "data": {
            "text/plain": [
              "<matplotlib.collections.PathCollection at 0x7f11918f1128>"
            ]
          },
          "metadata": {
            "tags": []
          },
          "execution_count": 9
        },
        {
          "output_type": "display_data",
          "data": {
            "image/png": "[encoded data removed]",
            "text/plain": [
              "<Figure size 864x576 with 1 Axes>"
            ]
          },
          "metadata": {
            "tags": [],
            "needs_background": "light"
          }
        }
      ]
    },
    {
      "cell_type": "markdown",
      "metadata": {
        "id": "rQSPX3puCIif"
      },
      "source": [
        "d) Perform Principle Component Analysis (PCA) on the data. Project the original data on the 2 largest principle components. Store this new projected 2-D data in a variable ***X_projected***."
      ]
    },
    {
      "cell_type": "code",
      "metadata": {
        "id": "MXeLFgzqCIif",
        "outputId": "cf97aeac-99eb-46f1-a30b-309b4ef3fdc2",
        "colab": {
          "base_uri": "https://localhost:8080/"
        }
      },
      "source": [
        "from sklearn.decomposition import PCA\n",
        "\n",
        "pca = PCA(n_components=2).fit(X)\n",
        "X_pca = pca.transform(X)\n",
        "X_pca"
      ],
      "execution_count": 10,
      "outputs": [
        {
          "output_type": "execute_result",
          "data": {
            "text/plain": [
              "array([[-2.68412563,  0.31939725],\n",
              "       [-2.71414169, -0.17700123],\n",
              "       [-2.88899057, -0.14494943],\n",
              "       [-2.74534286, -0.31829898],\n",
              "       [-2.72871654,  0.32675451],\n",
              "       [-2.28085963,  0.74133045],\n",
              "       [-2.82053775, -0.08946138],\n",
              "       [-2.62614497,  0.16338496],\n",
              "       [-2.88638273, -0.57831175],\n",
              "       [-2.6727558 , -0.11377425],\n",
              "       [-2.50694709,  0.6450689 ],\n",
              "       [-2.61275523,  0.01472994],\n",
              "       [-2.78610927, -0.235112  ],\n",
              "       [-3.22380374, -0.51139459],\n",
              "       [-2.64475039,  1.17876464],\n",
              "       [-2.38603903,  1.33806233],\n",
              "       [-2.62352788,  0.81067951],\n",
              "       [-2.64829671,  0.31184914],\n",
              "       [-2.19982032,  0.87283904],\n",
              "       [-2.5879864 ,  0.51356031],\n",
              "       [-2.31025622,  0.39134594],\n",
              "       [-2.54370523,  0.43299606],\n",
              "       [-3.21593942,  0.13346807],\n",
              "       [-2.30273318,  0.09870885],\n",
              "       [-2.35575405, -0.03728186],\n",
              "       [-2.50666891, -0.14601688],\n",
              "       [-2.46882007,  0.13095149],\n",
              "       [-2.56231991,  0.36771886],\n",
              "       [-2.63953472,  0.31203998],\n",
              "       [-2.63198939, -0.19696122],\n",
              "       [-2.58739848, -0.20431849],\n",
              "       [-2.4099325 ,  0.41092426],\n",
              "       [-2.64886233,  0.81336382],\n",
              "       [-2.59873675,  1.09314576],\n",
              "       [-2.63692688, -0.12132235],\n",
              "       [-2.86624165,  0.06936447],\n",
              "       [-2.62523805,  0.59937002],\n",
              "       [-2.80068412,  0.26864374],\n",
              "       [-2.98050204, -0.48795834],\n",
              "       [-2.59000631,  0.22904384],\n",
              "       [-2.77010243,  0.26352753],\n",
              "       [-2.84936871, -0.94096057],\n",
              "       [-2.99740655, -0.34192606],\n",
              "       [-2.40561449,  0.18887143],\n",
              "       [-2.20948924,  0.43666314],\n",
              "       [-2.71445143, -0.2502082 ],\n",
              "       [-2.53814826,  0.50377114],\n",
              "       [-2.83946217, -0.22794557],\n",
              "       [-2.54308575,  0.57941002],\n",
              "       [-2.70335978,  0.10770608],\n",
              "       [ 1.28482569,  0.68516047],\n",
              "       [ 0.93248853,  0.31833364],\n",
              "       [ 1.46430232,  0.50426282],\n",
              "       [ 0.18331772, -0.82795901],\n",
              "       [ 1.08810326,  0.07459068],\n",
              "       [ 0.64166908, -0.41824687],\n",
              "       [ 1.09506066,  0.28346827],\n",
              "       [-0.74912267, -1.00489096],\n",
              "       [ 1.04413183,  0.2283619 ],\n",
              "       [-0.0087454 , -0.72308191],\n",
              "       [-0.50784088, -1.26597119],\n",
              "       [ 0.51169856, -0.10398124],\n",
              "       [ 0.26497651, -0.55003646],\n",
              "       [ 0.98493451, -0.12481785],\n",
              "       [-0.17392537, -0.25485421],\n",
              "       [ 0.92786078,  0.46717949],\n",
              "       [ 0.66028376, -0.35296967],\n",
              "       [ 0.23610499, -0.33361077],\n",
              "       [ 0.94473373, -0.54314555],\n",
              "       [ 0.04522698, -0.58383438],\n",
              "       [ 1.11628318, -0.08461685],\n",
              "       [ 0.35788842, -0.06892503],\n",
              "       [ 1.29818388, -0.32778731],\n",
              "       [ 0.92172892, -0.18273779],\n",
              "       [ 0.71485333,  0.14905594],\n",
              "       [ 0.90017437,  0.32850447],\n",
              "       [ 1.33202444,  0.24444088],\n",
              "       [ 1.55780216,  0.26749545],\n",
              "       [ 0.81329065, -0.1633503 ],\n",
              "       [-0.30558378, -0.36826219],\n",
              "       [-0.06812649, -0.70517213],\n",
              "       [-0.18962247, -0.68028676],\n",
              "       [ 0.13642871, -0.31403244],\n",
              "       [ 1.38002644, -0.42095429],\n",
              "       [ 0.58800644, -0.48428742],\n",
              "       [ 0.80685831,  0.19418231],\n",
              "       [ 1.22069088,  0.40761959],\n",
              "       [ 0.81509524, -0.37203706],\n",
              "       [ 0.24595768, -0.2685244 ],\n",
              "       [ 0.16641322, -0.68192672],\n",
              "       [ 0.46480029, -0.67071154],\n",
              "       [ 0.8908152 , -0.03446444],\n",
              "       [ 0.23054802, -0.40438585],\n",
              "       [-0.70453176, -1.01224823],\n",
              "       [ 0.35698149, -0.50491009],\n",
              "       [ 0.33193448, -0.21265468],\n",
              "       [ 0.37621565, -0.29321893],\n",
              "       [ 0.64257601,  0.01773819],\n",
              "       [-0.90646986, -0.75609337],\n",
              "       [ 0.29900084, -0.34889781],\n",
              "       [ 2.53119273, -0.00984911],\n",
              "       [ 1.41523588, -0.57491635],\n",
              "       [ 2.61667602,  0.34390315],\n",
              "       [ 1.97153105, -0.1797279 ],\n",
              "       [ 2.35000592, -0.04026095],\n",
              "       [ 3.39703874,  0.55083667],\n",
              "       [ 0.52123224, -1.19275873],\n",
              "       [ 2.93258707,  0.3555    ],\n",
              "       [ 2.32122882, -0.2438315 ],\n",
              "       [ 2.91675097,  0.78279195],\n",
              "       [ 1.66177415,  0.24222841],\n",
              "       [ 1.80340195, -0.21563762],\n",
              "       [ 2.1655918 ,  0.21627559],\n",
              "       [ 1.34616358, -0.77681835],\n",
              "       [ 1.58592822, -0.53964071],\n",
              "       [ 1.90445637,  0.11925069],\n",
              "       [ 1.94968906,  0.04194326],\n",
              "       [ 3.48705536,  1.17573933],\n",
              "       [ 3.79564542,  0.25732297],\n",
              "       [ 1.30079171, -0.76114964],\n",
              "       [ 2.42781791,  0.37819601],\n",
              "       [ 1.19900111, -0.60609153],\n",
              "       [ 3.49992004,  0.4606741 ],\n",
              "       [ 1.38876613, -0.20439933],\n",
              "       [ 2.2754305 ,  0.33499061],\n",
              "       [ 2.61409047,  0.56090136],\n",
              "       [ 1.25850816, -0.17970479],\n",
              "       [ 1.29113206, -0.11666865],\n",
              "       [ 2.12360872, -0.20972948],\n",
              "       [ 2.38800302,  0.4646398 ],\n",
              "       [ 2.84167278,  0.37526917],\n",
              "       [ 3.23067366,  1.37416509],\n",
              "       [ 2.15943764, -0.21727758],\n",
              "       [ 1.44416124, -0.14341341],\n",
              "       [ 1.78129481, -0.49990168],\n",
              "       [ 3.07649993,  0.68808568],\n",
              "       [ 2.14424331,  0.1400642 ],\n",
              "       [ 1.90509815,  0.04930053],\n",
              "       [ 1.16932634, -0.16499026],\n",
              "       [ 2.10761114,  0.37228787],\n",
              "       [ 2.31415471,  0.18365128],\n",
              "       [ 1.9222678 ,  0.40920347],\n",
              "       [ 1.41523588, -0.57491635],\n",
              "       [ 2.56301338,  0.2778626 ],\n",
              "       [ 2.41874618,  0.3047982 ],\n",
              "       [ 1.94410979,  0.1875323 ],\n",
              "       [ 1.52716661, -0.37531698],\n",
              "       [ 1.76434572,  0.07885885],\n",
              "       [ 1.90094161,  0.11662796],\n",
              "       [ 1.39018886, -0.28266094]])"
            ]
          },
          "metadata": {
            "tags": []
          },
          "execution_count": 10
        }
      ]
    },
    {
      "cell_type": "markdown",
      "metadata": {
        "id": "kqSEvVG2CIih"
      },
      "source": [
        "Repeat part **b** on the new 2-D data. Train the Bottom-up Agglomerative model and visualize your results."
      ]
    },
    {
      "cell_type": "code",
      "metadata": {
        "id": "7ju0-2l0CIii",
        "outputId": "88e3ddaa-ce95-4f8e-d5e5-968b202e41a5",
        "colab": {
          "base_uri": "https://localhost:8080/",
          "height": 503
        }
      },
      "source": [
        "from sklearn.cluster import AgglomerativeClustering\n",
        "clustering = AgglomerativeClustering(n_clusters=3,affinity=\"euclidean\",linkage=\"ward\")\n",
        "clustering.fit(X_pca)\n",
        "labels_pca=clustering.labels_\n",
        "\n",
        "plt.figure(figsize=(12,8))\n",
        "plt.scatter(X_pca[labels_pca==0,0],X_pca[labels_pca==0,1],color='yellow')\n",
        "plt.scatter(X_pca[labels_pca==1,0],X_pca[labels_pca==1,1],color='blue')\n",
        "plt.scatter(X_pca[labels_pca==2,0],X_pca[labels_pca==2,1],color='red')"
      ],
      "execution_count": 11,
      "outputs": [
        {
          "output_type": "execute_result",
          "data": {
            "text/plain": [
              "<matplotlib.collections.PathCollection at 0x7f1191850c88>"
            ]
          },
          "metadata": {
            "tags": []
          },
          "execution_count": 11
        },
        {
          "output_type": "display_data",
          "data": {
            "image/png": "[encoded data removed]",
            "text/plain": [
              "<Figure size 864x576 with 1 Axes>"
            ]
          },
          "metadata": {
            "tags": [],
            "needs_background": "light"
          }
        }
      ]
    },
    {
      "cell_type": "markdown",
      "metadata": {
        "id": "_vafAr0HCIik"
      },
      "source": [
        "Repeat part **c** on the new 2-D data. Train the K-means model and visualize your result."
      ]
    },
    {
      "cell_type": "code",
      "metadata": {
        "id": "MeBtQdpjCIik",
        "outputId": "92562105-0cb0-45b7-f037-1b41fd3a68bf",
        "colab": {
          "base_uri": "https://localhost:8080/",
          "height": 503
        }
      },
      "source": [
        "from sklearn.cluster import KMeans\n",
        "\n",
        "kmeans = KMeans(n_clusters=3, random_state=0).fit(X_pca)\n",
        "klabels_pca = kmeans.labels_\n",
        "plt.figure(figsize=(12,8))\n",
        "plt.scatter(X_pca[klabels_pca==0,0],X_pca[klabels_pca==0,1],color='red')\n",
        "plt.scatter(X_pca[klabels_pca==1,0],X_pca[klabels_pca==1,1],color='blue')\n",
        "plt.scatter(X_pca[klabels_pca==2,0],X_pca[klabels_pca==2,1],color='yellow')"
      ],
      "execution_count": 12,
      "outputs": [
        {
          "output_type": "execute_result",
          "data": {
            "text/plain": [
              "<matplotlib.collections.PathCollection at 0x7f1191839e10>"
            ]
          },
          "metadata": {
            "tags": []
          },
          "execution_count": 12
        },
        {
          "output_type": "display_data",
          "data": {
            "image/png": "[encoded data removed]",
            "text/plain": [
              "<Figure size 864x576 with 1 Axes>"
            ]
          },
          "metadata": {
            "tags": [],
            "needs_background": "light"
          }
        }
      ]
    },
    {
      "cell_type": "markdown",
      "metadata": {
        "id": "97erma3dCIim"
      },
      "source": [
        "Compare the quality of 4-D and 2-D clusterings. When would the ideas of projection and dimensionality reduction be useful?"
      ]
    },
    {
      "cell_type": "markdown",
      "metadata": {
        "id": "pmMDZO8jFUAt"
      },
      "source": [
        "PCA used in combination with K means clustering dimension reduction was very useful and increase accuracy, but when PCA used with Bottom-up Agglomerative clustering doesn't change much.\n",
        "\n",
        "Overall, 2-D has better partision than 4-D. Thus PCA will be slightly better. The higher dimension, the more useful PCA will be as better clustering would be formed. "
      ]
    },
    {
      "cell_type": "markdown",
      "metadata": {
        "id": "FoivpW9vCIip"
      },
      "source": [
        "## Problem 2\n",
        "\n",
        "In this problem, you will first implement the Naive Bayes (NB) algorithm from scratch. We will use a dataset for classifying if a patient has breast cancer. Each instance (row) in the dataset is a patient described by the 9 following features (with their corresponding values).\n",
        "\n",
        "1. Clump Thickness: 1 - 10\n",
        "2. Uniformity of Cell Size: 1 - 10\n",
        "3. Uniformity of Cell Shape: 1 - 10\n",
        "4. Marginal Adhesion: 1 - 10\n",
        "5. Single Epithelial Cell Size: 1 - 10\n",
        "6. Bare Nuclei: 1 - 10\n",
        "7. Bland Chromatin: 1 - 10\n",
        "8. Normal Nucleoli: 1 - 10\n",
        "9. Mitoses: 1 - 10\n",
        "\n",
        "Given these features, we will classify a car into one of the 2 classes: 0 (benign) or 1 (malignant).\n",
        "\n",
        "NB is a very simple algorithm. Consider a feature **X**. For each value **$x_i$** of **X** and each class label **$y_j$**, NB calculates the value of $P(X = x_i | Y = y_j)$. For example, take the feature **Mitoses**, NB will calculate all the following values:\n",
        "\n",
        "- P(Mitoses = 1 | Class = 0), P(Mitoses = 2 | Class = 0), P(Mitoses = 3 | Class = 0), ... , P(Mitoses = 10 | Class = 0)\n",
        "- P(Mitoses = 1 | Class = 1), P(Mitoses = 2 | Class = 1), P(Mitoses = 3 | Class = 1), ... , P(Mitoses = 10 | Class = 1)\n",
        "\n",
        "Repeat this calculation for all the features. In the end, NB keep a recording of all possible $P(X | Y)$. The calculation itself is intuitive:\n",
        "\n",
        "$$\n",
        " P(X = x_i | Y = y_j) = \\frac{\\text{Number of rows with } X = x_i \\text{ and } Y = y_j}{\\text{Number of rows with } Y = y_j}\n",
        "$$\n",
        "\n",
        "In addition, NB also calculate the priors probability $P(Y = y_j)$. Again, intuitively:\n",
        "\n",
        "$$\n",
        " P(Y = y_i) = \\frac{\\text{Number of rows with } Y = y_j}{\\text{Number of rows in the dataset}}\n",
        "$$\n",
        "\n",
        "Given a test example $X_{test} = \\{ X_0 = x_0, X_1 = x_1, \\ldots, X_i = x_i\\}$, for each class label $y_j$, NB calculate:\n",
        "\n",
        "$$\n",
        "\\begin{align}\n",
        " P(Y = y_j | X_{test}) & = P(X_{test} | Y = y_j)P(Y = y_j) \\\\\n",
        "                       & = P(X_0 = x_0 | Y = y_j)P(X_1 = x_1 | Y = y_j) \\ldots P(X_i = x_i | Y = y_j)P(Y = y_j)\n",
        "\\end{align}\n",
        "$$\n",
        "\n",
        "Such calculation is easy since we have bookkept all $P(X | Y)$ and all $P(Y)$ in previous steps. The output of the model is simply:\n",
        "\n",
        "$$\n",
        " \\underset{y_j}{\\operatorname{argmax}} P(Y = y_j | X_{test})\n",
        "$$\n",
        "\n",
        "You will do each of these steps following this problem. We will use Pandas to deal with the data in this problem. Pandas can do queries like \"Get all the rows in which Clump Thickness = 2 and Class = 1\" with minimal syntax.\n"
      ]
    },
    {
      "cell_type": "markdown",
      "metadata": {
        "id": "bVJ4jdXdCIip"
      },
      "source": [
        "a) First let's load the dataset and store it in a Pandas dataframe. Play with the dataframe and get used to the queries (this part is not graded). This guide is a good place to start:\n",
        "\n",
        "https://medium.com/python-in-plain-english/filtering-rows-and-columns-in-pandas-python-techniques-you-must-know-6cdfc32c614c \n",
        "\n",
        "Split the dataset into a training set and a testing set. Use 10% of the data as the testing set (The splitting is graded)."
      ]
    },
    {
      "cell_type": "code",
      "metadata": {
        "id": "QN5XXMlQCIiq"
      },
      "source": [
        "import pandas as pd\n",
        "from sklearn.model_selection import train_test_split\n",
        "\n",
        "data = pd.read_csv(\"breast-cancer-wisconsin.csv\")\n",
        "X = data.iloc[:,0:9]\n",
        "y = data.iloc[:,9]\n",
        "X_train, X_test, y_train, y_test = train_test_split(X, y, test_size=0.10, random_state=42)"
      ],
      "execution_count": 211,
      "outputs": []
    },
    {
      "cell_type": "markdown",
      "metadata": {
        "id": "XCcnjHcVCIis"
      },
      "source": [
        "b) Now we will build up the bookkeeping. Let's start with the priors $P(Y = y_j)$, $y_j \\in$ {0,1}. For each of these labels, calculate $P(Y = y_j)$ by simply counting the number of times $y_j$ appears in the dataset divided by the size of the dataset. You can bookkeep the priors in a dictionary with keys being $y_j$."
      ]
    },
    {
      "cell_type": "code",
      "metadata": {
        "id": "KNaoyE0CCIis",
        "outputId": "f218c764-d073-4a50-c73c-085a2ef35b35",
        "colab": {
          "base_uri": "https://localhost:8080/"
        }
      },
      "source": [
        "ones_percent = y_train[y_train == 1].size / y_train.size\n",
        "zeros_percent = y_train[y_train == 0].size / y_train.size\n",
        "\n",
        "dic = {\"y1\":ones_percent,\n",
        "       \"y0\":zeros_percent}\n",
        "dic[\"y1\"]"
      ],
      "execution_count": 228,
      "outputs": [
        {
          "output_type": "execute_result",
          "data": {
            "text/plain": [
              "0.3449920508744038"
            ]
          },
          "metadata": {
            "tags": []
          },
          "execution_count": 228
        }
      ]
    },
    {
      "cell_type": "markdown",
      "metadata": {
        "id": "kICnUDaMCIiv"
      },
      "source": [
        "Now let's calculate the conditional probability $P(X = x_i | Y = y_j)$. If you do the query with Pandas, this counting should be simple. This time, store the conditional probability in another dictionary with keys ($x_i$, $y_j$) or any data structure that you prefer. "
      ]
    },
    {
      "cell_type": "code",
      "metadata": {
        "id": "OilEmtvLCIiv",
        "outputId": "3b798e2a-9ef7-40d8-b7e2-c068d3055239",
        "colab": {
          "base_uri": "https://localhost:8080/"
        }
      },
      "source": [
        "import numpy as np\n",
        "ones= []\n",
        "zeros = []\n",
        "d1 = pd.DataFrame({\"one\":[]}) \n",
        "d2 = pd.DataFrame({\"zero\":[]}) \n",
        "for i in X.columns:\n",
        "    for j in range (1,11):\n",
        "        x1 = X_train[(X_train[i] == j) & (y_train ==1)]\n",
        "        x0 = X_train[(X_train[i] == j) & (y_train ==0)]\n",
        "        v1 = x1[i].size / y_train[y_train == 1].size\n",
        "        v0 = x0[i].size / y_train[y_train == 0].size\n",
        "        ones.append(v1)\n",
        "        zeros.append(v0)\n",
        "ones_m = pd.DataFrame(np.resize(ones, [9,10]))\n",
        "ones_m.columns = [1,2,3,4,5,6,7,8,9,10]\n",
        "ones_m.index = [\"Clump Thickness\", \" Uniformity of Cell Size\", \" Uniformity of Cell Shape\", \" Marginal Adhesion\", \" Single Epithelial Cell Size\", \" Bare Nuclei\", \" Bland Chromatin\", \" Normal Nucleoli\", \" Mitoses\"]\n",
        "print(ones_m)\n",
        "zeros_m = pd.DataFrame(np.resize(zeros, [9,10]))\n",
        "zeros_m.columns = [1,2,3,4,5,6,7,8,9,10]\n",
        "zeros_m.index = [\"Clump Thickness\", \" Uniformity of Cell Size\", \" Uniformity of Cell Shape\", \" Marginal Adhesion\", \" Single Epithelial Cell Size\", \" Bare Nuclei\", \" Bland Chromatin\", \" Normal Nucleoli\", \" Mitoses\"]\n",
        "print(zeros_m)\n"
      ],
      "execution_count": 229,
      "outputs": [
        {
          "output_type": "stream",
          "text": [
            "                                    1         2   ...        9         10\n",
            "Clump Thickness               0.013825  0.018433  ...  0.055300  0.304147\n",
            " Uniformity of Cell Size      0.018433  0.036866  ...  0.023041  0.262673\n",
            " Uniformity of Cell Shape     0.009217  0.032258  ...  0.032258  0.239631\n",
            " Marginal Adhesion            0.129032  0.092166  ...  0.018433  0.216590\n",
            " Single Epithelial Cell Size  0.004608  0.101382  ...  0.009217  0.124424\n",
            " Bare Nuclei                  0.069124  0.036866  ...  0.036866  0.557604\n",
            " Bland Chromatin              0.009217  0.032258  ...  0.050691  0.082949\n",
            " Normal Nucleoli              0.175115  0.023041  ...  0.064516  0.248848\n",
            " Mitoses                      0.557604  0.119816  ...  0.000000  0.055300\n",
            "\n",
            "[9 rows x 10 columns]\n",
            "                                    1         2   ...        9         10\n",
            "Clump Thickness               0.310680  0.104369  ...  0.000000  0.000000\n",
            " Uniformity of Cell Size      0.827670  0.082524  ...  0.002427  0.000000\n",
            " Uniformity of Cell Shape     0.762136  0.116505  ...  0.000000  0.000000\n",
            " Marginal Adhesion            0.817961  0.077670  ...  0.002427  0.002427\n",
            " Single Epithelial Cell Size  0.097087  0.796117  ...  0.000000  0.002427\n",
            " Bare Nuclei                  0.868932  0.048544  ...  0.000000  0.007282\n",
            " Bland Chromatin              0.332524  0.351942  ...  0.000000  0.000000\n",
            " Normal Nucleoli              0.885922  0.065534  ...  0.002427  0.000000\n",
            " Mitoses                      0.973301  0.014563  ...  0.000000  0.000000\n",
            "\n",
            "[9 rows x 10 columns]\n"
          ],
          "name": "stdout"
        }
      ]
    },
    {
      "cell_type": "markdown",
      "metadata": {
        "id": "_FLpdkXvCIiz"
      },
      "source": [
        "That's it! You have successfully \"trained\" a NB model. Let's test our model on the test dataset."
      ]
    },
    {
      "cell_type": "markdown",
      "metadata": {
        "id": "ehcUwBpHCIi0"
      },
      "source": [
        "Implement a **predict** function that returns $\\underset{y_j}{\\operatorname{argmax}} P(Y = y_j | X_{test})$ (refer to the description above). "
      ]
    },
    {
      "cell_type": "code",
      "metadata": {
        "id": "EpniiLzXCIi0"
      },
      "source": [
        "results = []\n",
        "X_test= X_test.reset_index(drop=True)\n",
        "for i in range (0, len(y_test)):\n",
        "    rones = 1\n",
        "    rzeros = 1\n",
        "    for j in X_test.columns:\n",
        "        v = X_test.at[i,j]\n",
        "        rones *= ones_m.at[j,v]\n",
        "        rzeros *= zeros_m.at[j,v]\n",
        "    rones *=  ones_percent\n",
        "    rzeros *=  zeros_percent\n",
        "    if (rones < rzeros):\n",
        "        results.append(0) \n",
        "    else:\n",
        "        results.append(1) "
      ],
      "execution_count": 230,
      "outputs": []
    },
    {
      "cell_type": "markdown",
      "metadata": {
        "id": "61DxG8nNCIi2"
      },
      "source": [
        "Predict the label of all the instances in the test dataset, calculate and print out the accuracy."
      ]
    },
    {
      "cell_type": "code",
      "metadata": {
        "id": "6vawAxVuCIi2",
        "outputId": "d736fee8-1232-4de9-d071-fa07bb144347",
        "colab": {
          "base_uri": "https://localhost:8080/"
        }
      },
      "source": [
        "accuracy_score(y_test, results)"
      ],
      "execution_count": 231,
      "outputs": [
        {
          "output_type": "execute_result",
          "data": {
            "text/plain": [
              "0.9857142857142858"
            ]
          },
          "metadata": {
            "tags": []
          },
          "execution_count": 231
        }
      ]
    },
    {
      "cell_type": "markdown",
      "metadata": {
        "id": "VaVwnYLTCIi4"
      },
      "source": [
        "## Problem 3\n",
        "\n",
        "In this problem, you will implement the Logistic Regression (LR) algorithm from scratch. Similar to NB, LR relies on $P(Y|X)$ to predict the class of an example. However, unlike NB, a generative model, LR is a discriminative model so it does not need to estimate $P(X|Y)$ and $P(Y)$. LR assumes the form of the conditional probability $P(Y|X)$ to be:\n",
        "\n",
        "$$\n",
        "    P(Y | X) = f(X) = \\frac{1}{1 + e^{-(\\alpha X + \\beta)}}\n",
        "$$\n",
        "\n",
        "$f(X)$ returns a value in (0,1). The model classifies $X$ as $1$ if $f(X)$ is closer to $1$ and $0$ otherwise. We have to estimate the model parameters: the vector $\\alpha$ and $\\beta$ from the data, which we will do via stochastic gradient descent (SGD). In SGD, a training example is shown to the model each at a time. The model makes a prediction on the training example and the error between the prediction and the ground-truth label is used to update the model's parameters. We use the log-likelihood loss to estimate the error in this problem. In particular, the log-likelihood loss for classifying the $X^{(i)}$ example with the ground-truth $y^{(i)}$ is: \n",
        "\n",
        "$$\n",
        "    LL(y^{(i)},f(X^{(i)})) = -(y^{(i)} \\log(f(X^{(i)})) + (1 - y^{(i)}) \\log(1 - f(X^{(i)})))\n",
        "$$\n",
        "\n",
        "In our case, the updating is as the followings:\n",
        "\n",
        "$$\n",
        "\\alpha_{j}(t+1) = \\alpha_{j}(t) - \\frac{\\partial LL}{\\partial \\alpha_j} \\times rate\n",
        "$$\n",
        "\n",
        "$$\n",
        "\\beta(t+1) = \\beta(t) - \\frac{\\partial LL}{\\partial \\beta} \\times rate\n",
        "$$\n",
        "\n",
        "where $rate$ is the how much change we want to make to the parameters in each update. Whenever we finish looping through all the instances in the dataset to update the parameters, we finish a training epoch. We may do many training epochs (looping through the dataset many times), until the model parameters converge."
      ]
    },
    {
      "cell_type": "markdown",
      "metadata": {
        "id": "nD6ijGxBCIi4"
      },
      "source": [
        "First, we need to derive the formula for $\\frac{\\partial LL}{\\partial \\alpha_j}$ and $\\frac{\\partial LL}{\\partial \\beta}$. To keep the problem simple, these are provided to you:\n",
        "\n",
        "$$\n",
        "    \\frac{\\partial LL}{\\partial \\alpha_j} = -(y^{(i)} - f(X^{(i)}))X^{(i)}_{j}\n",
        "$$\n",
        "\n",
        "$$\n",
        "    \\frac{\\partial LL}{\\partial \\beta} = -(y^{(i)} - f(X^{(i)}))\n",
        "$$\n",
        "\n",
        "a) We use the same dataset for predicting breast cancer in Problem 2 for this problem. Load the dataset and split it into a training set and a testing set."
      ]
    },
    {
      "cell_type": "code",
      "metadata": {
        "id": "aN30wvGYCIi5"
      },
      "source": [
        "from sklearn.model_selection import train_test_split\n",
        "\n",
        "data = pd.read_csv(\"breast-cancer-wisconsin.csv\")\n",
        "X = data.iloc[:,0:9]\n",
        "y = data.iloc[:,9]\n",
        "X_train,X_test,y_train,y_test = train_test_split(X,y,test_size = 0.30)"
      ],
      "execution_count": 88,
      "outputs": []
    },
    {
      "cell_type": "markdown",
      "metadata": {
        "id": "G4m4l0jqCIi6"
      },
      "source": [
        "b) Learn the model parameters using SGD. A skeleton for SGD is provided to help you understand the process (You don't have to use the provided code). "
      ]
    },
    {
      "cell_type": "code",
      "metadata": {
        "id": "pn6Mg_X1CIi7",
        "outputId": "2657cf69-5d8e-4d53-97d3-5743e6812358",
        "colab": {
          "base_uri": "https://localhost:8080/"
        }
      },
      "source": [
        "from math import exp\n",
        "\n",
        "epochs = 20\n",
        "rate = 0.01\n",
        "SGD = pd.concat([X_train,y_train], axis=1).to_numpy()\n",
        "coefficient = np.zeros(len(SGD[0]))\n",
        "\n",
        "def predict(row, coefficient):\n",
        "    y_ = coefficient[0]  # beta\n",
        "    for i in range(1,len(row)): # alpha for corresponding to each x\n",
        "      y_ += coefficient[i]*row[i-1]\n",
        "    return 1.0/(1.0+exp(-y_))\n",
        "\n",
        "for epoch in range(epochs):\n",
        "  all_error = 0\n",
        "  for row in SGD:\n",
        "    yi = predict(row,coefficient)\n",
        "    error = row[-1] - yi\n",
        "    all_error += error**2\n",
        "    coefficient[0] += -rate*error*yi*(yi-1)\n",
        "    # update parameters\n",
        "    for i in range(1,len(row)):\n",
        "      coefficient[i] += -rate*error*yi*(yi-1)*row[i-1]\n",
        "\n",
        "print(coefficient)"
      ],
      "execution_count": 89,
      "outputs": [
        {
          "output_type": "stream",
          "text": [
            "[-1.84926149 -0.10111436  0.59965477  0.18992236  0.02682314 -0.34644695\n",
            "  0.40399392 -0.27003814  0.29796996 -0.18779661]\n"
          ],
          "name": "stdout"
        }
      ]
    },
    {
      "cell_type": "markdown",
      "metadata": {
        "id": "NrKJZXNHCIi8"
      },
      "source": [
        "c) Load the testing dataset. Use $f(X)$ to predict the labels of the test instances. Calculate the accuracy."
      ]
    },
    {
      "cell_type": "code",
      "metadata": {
        "id": "VTaGo3B9CIi9",
        "outputId": "140f0bb8-3d7b-4cbc-92cc-232335ebed50",
        "colab": {
          "base_uri": "https://localhost:8080/"
        }
      },
      "source": [
        "y_result = []\n",
        "test = X_test.to_numpy()\n",
        "for r in test:\n",
        "  yi = round(predict(r,coefficient))\n",
        "  y_result.append(yi)\n",
        "accuracy_score(y_test,y_result)"
      ],
      "execution_count": 189,
      "outputs": [
        {
          "output_type": "execute_result",
          "data": {
            "text/plain": [
              "0.9714285714285714"
            ]
          },
          "metadata": {
            "tags": []
          },
          "execution_count": 189
        }
      ]
    },
    {
      "cell_type": "markdown",
      "metadata": {
        "id": "ocyIAtE6CIi_"
      },
      "source": [
        "## Problem 4\n",
        "\n",
        "In this problem, you will investigate how the size of the training data on the performance of a generative model (NB) and a discriminative model (LR). **You are free to use scikit-learn's NB and LR.** "
      ]
    },
    {
      "cell_type": "markdown",
      "metadata": {
        "id": "d31i-GMUCIi_"
      },
      "source": [
        "a) Load the breast cancer training dataset and split it into a training set and a testing set. "
      ]
    },
    {
      "cell_type": "code",
      "metadata": {
        "id": "TN4Hp4lbCIi_"
      },
      "source": [
        "data = pd.read_csv(\"breast-cancer-wisconsin.csv\")\n",
        "X = data.iloc[:,0:9]\n",
        "y = data.iloc[:,9]\n",
        "X_train,X_test,y_train,y_test = train_test_split(X,y,test_size = 0.10)"
      ],
      "execution_count": 62,
      "outputs": []
    },
    {
      "cell_type": "markdown",
      "metadata": {
        "id": "bfs7VC8HCIjB"
      },
      "source": [
        "b) We will train NB classifiers that use only a portion of the training data. Let's vary this portion from 1% to 100% of the training set (100 iterations). For each portion value, sample the training set according to the portion, train a NB classifer on this portion of the training set, and evaluate the model accuracy on the testing set.  "
      ]
    },
    {
      "cell_type": "code",
      "metadata": {
        "id": "wXYbEDCPCIjB"
      },
      "source": [
        "from sklearn.naive_bayes import MultinomialNB\n",
        "sample=[]\n",
        "accuracy=[]\n",
        "for i in range(1,100):\n",
        "  if i is not 100:\n",
        "    X1,X0,y1,y0=train_test_split(X_train,y_train,test_size = 1-i/100.0,random_state=10)\n",
        "  else:\n",
        "    X1 = X_train\n",
        "    y1 = y_train\n",
        "  clf = MultinomialNB()\n",
        "  clf.fit(X1,y1)\n",
        "  X_ = clf.predict(X_test)\n",
        "  sample.append(i/100.0)\n",
        "  accuracy.append(accuracy_score(y_test,X_))"
      ],
      "execution_count": 116,
      "outputs": []
    },
    {
      "cell_type": "markdown",
      "metadata": {
        "id": "2zJZZhLeCIjE"
      },
      "source": [
        "Plot the accuracies of the models versus the portion of the training set used. Comment on the effect of increasing the size of the training dataset on the performance of NB."
      ]
    },
    {
      "cell_type": "code",
      "metadata": {
        "id": "2SpkNuweCIjE",
        "outputId": "9e27a3e4-fb92-485b-bf24-2e0e7bba313f",
        "colab": {
          "base_uri": "https://localhost:8080/",
          "height": 312
        }
      },
      "source": [
        "plt.plot(sample,accuracy)\n",
        "plt.xlabel('portion')\n",
        "plt.ylabel('accuracy')\n",
        "plt.title(\"NB\")"
      ],
      "execution_count": 117,
      "outputs": [
        {
          "output_type": "execute_result",
          "data": {
            "text/plain": [
              "Text(0.5, 1.0, 'NB')"
            ]
          },
          "metadata": {
            "tags": []
          },
          "execution_count": 117
        },
        {
          "output_type": "display_data",
          "data": {
            "image/png": "[encoded data removed]",
            "text/plain": [
              "<Figure size 432x288 with 1 Axes>"
            ]
          },
          "metadata": {
            "tags": [],
            "needs_background": "light"
          }
        }
      ]
    },
    {
      "cell_type": "markdown",
      "metadata": {
        "id": "SetIXTiBkfvU"
      },
      "source": [
        "The larger the training dataset, the better the prediction espeically before 20% portion of dataset. Afterwards, the accuracy is about the same."
      ]
    },
    {
      "cell_type": "markdown",
      "metadata": {
        "id": "re1cSaIuCIjG"
      },
      "source": [
        "c) Repeat part **b** with LR."
      ]
    },
    {
      "cell_type": "code",
      "metadata": {
        "id": "hfjInPjLCIjG",
        "outputId": "7007e6ba-2619-4ceb-9451-527e84b21f97",
        "colab": {
          "base_uri": "https://localhost:8080/",
          "height": 312
        }
      },
      "source": [
        "from sklearn.linear_model import LogisticRegression\n",
        "\n",
        "sample=[]\n",
        "accuracy=[]\n",
        "for i in range(1,100):\n",
        "  if i is not 100:\n",
        "    X1,X0,y1,y0=train_test_split(X_train,y_train,test_size = 1-i/100.0,random_state=10)\n",
        "  else:\n",
        "    X1 = X_train\n",
        "    y1 = y_train\n",
        "  clf = LogisticRegression()\n",
        "  clf.fit(X1,y1)\n",
        "  X_ = clf.predict(X_test)\n",
        "  sample.append(i/100.0)\n",
        "  accuracy.append(accuracy_score(y_test,X_))\n",
        "\n",
        "plt.plot(sample,accuracy)\n",
        "plt.xlabel('portion')\n",
        "plt.ylabel('accuracy')\n",
        "plt.title(\"LR\")"
      ],
      "execution_count": 126,
      "outputs": [
        {
          "output_type": "execute_result",
          "data": {
            "text/plain": [
              "Text(0.5, 1.0, 'LR')"
            ]
          },
          "metadata": {
            "tags": []
          },
          "execution_count": 126
        },
        {
          "output_type": "display_data",
          "data": {
            "image/png": "[encoded data removed]",
            "text/plain": [
              "<Figure size 432x288 with 1 Axes>"
            ]
          },
          "metadata": {
            "tags": [],
            "needs_background": "light"
          }
        }
      ]
    },
    {
      "cell_type": "markdown",
      "metadata": {
        "id": "e_c_2o6mCIjI"
      },
      "source": [
        "Between a generative model (NB) and a discriminative model (LR), which is more affected by small training dataset? Think about a reason for this."
      ]
    },
    {
      "cell_type": "markdown",
      "metadata": {
        "id": "ZE6nSh5SkAg_"
      },
      "source": [
        "NB is more affected by small training dataset, as the accuracy of small training dataset is better for LR (As the graphs shown, at the beginning of the graph, the accuracy of LR vs NR is 85% vs 70%). Native Bayes models makes it assumes features in the datasets are independent thus is more affected by a small training dataset. The discriminative model learned boundaries between features/classes thus might not need many training datasets to begin to learn. That is to say, as Generative model depends on the joint probability it works well with smaller dataset , but discriminative models tend to perform poor with fewer dataset as it will overfit."
      ]
    },
    {
      "cell_type": "markdown",
      "metadata": {
        "id": "L3BbnWfxCIjJ"
      },
      "source": [
        "## Problem 5\n",
        "\n",
        "What is the hyperparameters, the parameters, and the objective function for finding the best hypothesis for each of the following methods:\n",
        "\n",
        "1. Decision Tree (Entropy gain)\n",
        "2. Support Vector Machine\n",
        "3. K-nearest Neighbors Clustering"
      ]
    },
    {
      "cell_type": "markdown",
      "metadata": {
        "id": "aQZ4DB2SCifg"
      },
      "source": [
        "1.**Hyperparameters**: depth of the tree, purity, splitter, estimator, maximum leaf nodes, depth of the trees, minimumimpurity decrease and impurity split, minimum number of sample leafs, number of features.\n",
        "\n",
        "**Parameter**: nodes, attribute threshold\n",
        "\n",
        "\n",
        "**Objective function**: The Entropy Gain: maximize the information gain at each split or optimizedduring the fitting. $Gain(S, A) = Entropy(S) - \\sum_{v \\in Values(A)} \\frac{\\lvert{S_{n}}\\rvert}{\\lvert{S}\\rvert}Entropy(S_{v})$\n",
        "\n",
        "2.**Hyperparameters:** kernel, polynomial degree, C, gamma, margin, shrinking heuristic (bool)\n",
        "\n",
        "**Parameters:** maximum margin of the support vectors and the w,b variables\n",
        "\n",
        "**Objective function:**\n",
        "To find a plane that has the maximum margin, or 'optimizing' in theconstraints.\n",
        "kernel function: $g(x)=b+w^{T} \\phi (x)=b+ \\sum_{i \\in SV}\\alpha_{i} y_{i}K(x,x_{i}) > 0$\n",
        "\n",
        "3.**Hyperparameters:** the number of clusters, complexity, weighted neighbors, precomputedistances, algorithm to use (such as ball_tree or brute), Leaf size passed to BallTree or KDTree,Power parameter for the Minkowski metric, metric.\n",
        "\n",
        "**Parameters:** the number of centroid, measure of distance, decision boundary\n",
        "\n",
        "**Objective function:** the function we used to calculate and optimize the distance such as Euclidean,Minkowski or Manhattan.$\\hat{t} = argmax_{c} \\sum_{i:x_{i}\\in N_{k}({𝑥},\\hat{x})}\\delta(t_{i},c)$\n",
        "\n"
      ]
    }
  ]
}