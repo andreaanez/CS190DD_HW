{
  "nbformat": 4,
  "nbformat_minor": 0,
  "metadata": {
    "colab": {
      "name": "HW3.ipynb",
      "provenance": []
    },
    "kernelspec": {
      "display_name": "Python 3",
      "language": "python",
      "name": "python3"
    },
    "language_info": {
      "codemirror_mode": {
        "name": "ipython",
        "version": 3
      },
      "file_extension": ".py",
      "mimetype": "text/x-python",
      "name": "python",
      "nbconvert_exporter": "python",
      "pygments_lexer": "ipython3",
      "version": "3.8.3"
    },
    "widgets": {
      "application/vnd.jupyter.widget-state+json": {
        "9dbe19f20f8446b996fd436359ea40de": {
          "model_module": "jupyter-matplotlib",
          "model_name": "MPLCanvasModel",
          "state": {
            "_view_name": "MPLCanvasView",
            "_view_module": "jupyter-matplotlib",
            "_figure_label": "Figure",
            "_view_count": null,
            "_cursor": "pointer",
            "capture_scroll": false,
            "layout": "IPY_MODEL_9dd0e2b546714b56a78be9c8779354f0",
            "_model_module": "jupyter-matplotlib",
            "footer_visible": true,
            "_image_mode": "full",
            "_dom_classes": [],
            "resizable": true,
            "_model_name": "MPLCanvasModel",
            "_height": 0,
            "header_visible": true,
            "_model_module_version": "^0.7.4",
            "_rubberband_x": 0,
            "_rubberband_y": 0,
            "toolbar": "IPY_MODEL_f9e56581740a41bd8b86d13b01887bf7",
            "toolbar_visible": true,
            "_rubberband_width": 0,
            "_width": 0,
            "_message": "",
            "_rubberband_height": 0,
            "_view_module_version": "^0.7.4",
            "toolbar_position": "left"
          }
        },
        "e267873105bb46658bd0529a5442e8c2": {
          "model_module": "jupyter-matplotlib",
          "model_name": "MPLCanvasModel",
          "state": {
            "_view_name": "MPLCanvasView",
            "_view_module": "jupyter-matplotlib",
            "_figure_label": "Figure",
            "_view_count": null,
            "_cursor": "pointer",
            "capture_scroll": false,
            "layout": "IPY_MODEL_f0f7ac6278174901af076ac7704d14f5",
            "_model_module": "jupyter-matplotlib",
            "footer_visible": true,
            "_image_mode": "full",
            "_dom_classes": [],
            "resizable": true,
            "_model_name": "MPLCanvasModel",
            "_height": 0,
            "header_visible": true,
            "_model_module_version": "^0.7.4",
            "_rubberband_x": 0,
            "_rubberband_y": 0,
            "toolbar": "IPY_MODEL_3ccc6689ce644199a0cc2eb183124e54",
            "toolbar_visible": true,
            "_rubberband_width": 0,
            "_width": 0,
            "_message": "",
            "_rubberband_height": 0,
            "_view_module_version": "^0.7.4",
            "toolbar_position": "left"
          }
        }
      }
    }
  },
  "cells": [
    {
      "cell_type": "markdown",
      "metadata": {
        "id": "XPsgwxLU2Sed"
      },
      "source": [
        "# Homework 3\n",
        "\n",
        "DUE DEC 1st at 11:59 PM\n"
      ]
    },
    {
      "cell_type": "markdown",
      "metadata": {
        "id": "dgdeprwQ2See"
      },
      "source": [
        "## Problem 1\n",
        "\n",
        "In this problem, you will implement a simple feed-forward neural network using PyTorch, a straight-forward and simple-to-pickup framework for quickly prototyping deep learning model. \n",
        "\n",
        "PyTorch provides 2 powerful things. First, a nice data structure called Tensor (basically a matrix, similar to Numpy ndarray). Tensor is optimized for matrix calculation and can be loaded to a GPU. Tensor is also implemented so that it's easy to calculate and pass back chains of gradients, which is extremely useful for backpropagation on neural network. Second, a nice inner mechanism called Autograd that nicely map variables involved a chain of calculations and efficiently calculate their gradients via the chain rule when needed. Read more here: https://towardsdatascience.com/pytorch-autograd-understanding-the-heart-of-pytorchs-magic-2686cd94ec95  \n",
        "\n",
        "You will train and evaluate the model on a simple dataset for classifying seeds. The dataset has 7 features and 3 labels. Refer to the example from the discussion session if needed. \n",
        "\n",
        "**In this problem, you are given a good amount of freedom in tweaking your choices in designing the network. As long as it's still a feed-forward network, it's fine. Accuracy does not matter as long as it's reasonable (like above 80%) but do try to achieve a high accuracy.**\n",
        "\n",
        "(Optional): the dataset provided to you is very simple. Instead, you can challenge yourself by trying more difficult datasets. Some datasets that you can loaded directly using PyTorch:\n",
        "- MNIST (Most famous dataset for getting into Deep Learning)\n",
        "- Fashion-MNIST\n",
        "- Kuzushiji-MNIST \n",
        "\n",
        "The datasets are available at https://pytorch.org/docs/stable/torchvision/datasets.html. You will get the same grade no matter what dataset you use. \n",
        "\n",
        "### Part a\n",
        "Firstly, load and inspect the dataset from \"seeds_dataset.csv\". Split them into a train set (90%) and a test set (10%). You should be quite comfortable with these operations by now. "
      ]
    },
    {
      "cell_type": "code",
      "metadata": {
        "id": "3eztCAG02See"
      },
      "source": [
        ""
      ],
      "execution_count": null,
      "outputs": []
    },
    {
      "cell_type": "markdown",
      "metadata": {
        "id": "_KpCu45p2See"
      },
      "source": [
        "### Part b \n",
        "Create a Python class for our neural network model. The network should have 1 input layer, at least 1 hidden layer, and 1 output layer. You are free to choose the size and the number of hidden layers (it may affect the performance so try tweaking around a bit), and the activation function (or no activation at all).\n",
        "\n",
        "Some popular activation functions that you can try:\n",
        "- Sigmoid (torch.sigmoid)\n",
        "- ReLU (torch.relu)\n",
        "- Tanh (torch.tanh)"
      ]
    },
    {
      "cell_type": "code",
      "metadata": {
        "id": "uH6tsTUr2See",
        "outputId": "e61c374d-9374-409f-8f57-debbdd015e13",
        "colab": {
          "base_uri": "https://localhost:8080/",
          "height": 130
        }
      },
      "source": [
        "import torch\n",
        "\n",
        "class network(torch.nn.Module):\n",
        "    \n",
        "    # Create the network class by filling in this block of code"
      ],
      "execution_count": 1,
      "outputs": [
        {
          "output_type": "error",
          "ename": "SyntaxError",
          "evalue": "ignored",
          "traceback": [
            "\u001b[0;36m  File \u001b[0;32m\"<ipython-input-1-9c64b9b702e1>\"\u001b[0;36m, line \u001b[0;32m5\u001b[0m\n\u001b[0;31m    # Create the network class by filling in this block of code\u001b[0m\n\u001b[0m                                                               ^\u001b[0m\n\u001b[0;31mSyntaxError\u001b[0m\u001b[0;31m:\u001b[0m unexpected EOF while parsing\n"
          ]
        }
      ]
    },
    {
      "cell_type": "markdown",
      "metadata": {
        "id": "ebDMfYee2See"
      },
      "source": [
        "### Part c \n",
        "Train the network using the train dataset. You are free to choose any suitable optimizer and loss function provided by PyTorch (or you can just use SGD optimizer and CrossEntropyLoss like we did in the discussion session for simplicity). After each epoch, record the current loss and the current accuracy. The current accuracy is obtained by evaluating the model on the train dataset. \n",
        "\n",
        "Some optimizers that you can try:\n",
        "- SGD\n",
        "- Adagrad\n",
        "- Adam\n",
        "\n",
        "https://pytorch.org/docs/stable/optim.html"
      ]
    },
    {
      "cell_type": "code",
      "metadata": {
        "id": "VTCFkzmm2See"
      },
      "source": [
        "LEARNING_RATE = 0.01\n",
        "EPOCHS = 20\n",
        "\n",
        "for epoch in range(EPOCHS):\n",
        "    \n",
        "    # Train the network by filling in this block of code"
      ],
      "execution_count": null,
      "outputs": []
    },
    {
      "cell_type": "markdown",
      "metadata": {
        "id": "BoVUZHu02See"
      },
      "source": [
        "Plot how the loss and the accuracy change over the epochs. "
      ]
    },
    {
      "cell_type": "code",
      "metadata": {
        "id": "R4T-5QDs2See"
      },
      "source": [
        ""
      ],
      "execution_count": null,
      "outputs": []
    },
    {
      "cell_type": "markdown",
      "metadata": {
        "id": "bvFzNDRT2See"
      },
      "source": [
        "### Part d \n",
        "Evaluate the model on the test dataset. Print out the accuracy. Does this accuracy agrees with the training accuracy showed on the plot? Why may they be different?"
      ]
    },
    {
      "cell_type": "code",
      "metadata": {
        "id": "t0eC-Wi32See"
      },
      "source": [
        ""
      ],
      "execution_count": null,
      "outputs": []
    },
    {
      "cell_type": "markdown",
      "metadata": {
        "id": "iy6C2pFfyXIa"
      },
      "source": [
        "## Problem 2\n",
        "\n",
        "If you haven't done so already, please read Chapter 2 (on fairness) of the textbook."
      ]
    },
    {
      "cell_type": "markdown",
      "metadata": {
        "id": "pe6qfhRFyXIa"
      },
      "source": [
        "### Part a\n",
        "\n",
        "Import the 'semi_synthetic.csv' dataset. This dataset is a modified version of the UCI Credit card dataset (details [here](https://archive.ics.uci.edu/ml/datasets/default+of+credit+card+clients)). We added a new synthetic feature to this dataset called `LIMIT_BAL`. It is highly predictive for `SEX==2` but not at all for `SEX==1`. As it turns out, this causes issues with fairness where models rely too much on `LIMIT_BAL` and discriminate against `SEX==2`. We will try to mitigate this in terms of the fairness criterion 'Statistical Parity' as it's mentioned in the textbook."
      ]
    },
    {
      "cell_type": "code",
      "metadata": {
        "id": "HaqdFHPvyXIa"
      },
      "source": [
        "import pandas as pd\n",
        "\n",
        "data = pd.read_csv(\"semi_synthetic.csv\")"
      ],
      "execution_count": 2,
      "outputs": []
    },
    {
      "cell_type": "markdown",
      "metadata": {
        "id": "QJhtmsUHyXIa"
      },
      "source": [
        "Extract features from the dataset (all columns except last) and call it `X`. Extract last column and call it `Y`. Also extract the `SEX` column and call this `SF` (for sensitive feature). Split all of these arrays data into train and test sets. You can use `sklearn.model_selection.train_test_split` and 20% ratio for the test dataset. Pass `stratify=Y` to `train_test_split` if you're using it. This ensures that both test and train datasets have the same ratio of 0/1 labels."
      ]
    },
    {
      "cell_type": "code",
      "metadata": {
        "id": "4RWhQl8zyXIa"
      },
      "source": [
        "from sklearn.model_selection import train_test_split \n",
        "import numpy as np\n",
        "import random\n",
        "random.seed(2020)\n",
        "np.random.seed(2020)\n",
        "\n",
        "X = data.iloc[:,0:-1]\n",
        "X = X.to_numpy()\n",
        "Y = data.iloc[:,-1]\n",
        "Y = Y.to_numpy()\n",
        "SF = data.iloc[:,1]\n",
        "SF = SF.to_numpy()\n",
        "X_train,X_test,y_train,y_test = train_test_split(X,Y,test_size = 0.20,stratify=Y)\n",
        "SF_test = X_test[:,1]"
      ],
      "execution_count": 3,
      "outputs": []
    },
    {
      "cell_type": "markdown",
      "metadata": {
        "id": "6_kwHg4SyXIa"
      },
      "source": [
        "Use a random forest classifier (whichever hyperparameters you want, you may leave it default) and train it using the train dataset (only `X_train` and `Y_train`. We will not use `SF_train` yet.)"
      ]
    },
    {
      "cell_type": "code",
      "metadata": {
        "id": "YESO3KAfyXIa",
        "colab": {
          "base_uri": "https://localhost:8080/"
        },
        "outputId": "c9de2336-bed1-4188-f216-d098e4001e59"
      },
      "source": [
        "from sklearn.ensemble import RandomForestClassifier\n",
        "\n",
        "clf = RandomForestClassifier(max_depth=5, n_estimators=5, random_state=0)\n",
        "clf.fit(X_train, y_train)\n",
        "np.size(y_train)"
      ],
      "execution_count": 4,
      "outputs": [
        {
          "output_type": "execute_result",
          "data": {
            "text/plain": [
              "24000"
            ]
          },
          "metadata": {
            "tags": []
          },
          "execution_count": 4
        }
      ]
    },
    {
      "cell_type": "markdown",
      "metadata": {
        "id": "_U4MeVC3yXIa"
      },
      "source": [
        "### Part b\n",
        "\n",
        "Now we will consider the 'statistical parity' fairness metric on the test dataset. This basically means we compare the selection rates (i.e. predicted labels being 1) conditioned on sex and look at their difference/ratio. To do this, print 5 things: \n",
        "\n",
        "1. Overall selection rate (what percent is predicted as 1)\n",
        "2. Selection rate for `SEX==1`\n",
        "3. Selection rate for `SEX==2`\n",
        "4. Difference between 2. and 3.\n",
        "5. Ratio of 2. and 3.\n",
        "\n",
        "Note that we didn't use anything related to how accurate the model is."
      ]
    },
    {
      "cell_type": "code",
      "metadata": {
        "id": "4qQcj-_PyXIa",
        "colab": {
          "base_uri": "https://localhost:8080/"
        },
        "outputId": "3b5b3eff-c05d-423d-e229-c8d42028ef58"
      },
      "source": [
        "y_predict = clf.predict(X_test)\n",
        "no1 = np.count_nonzero(y_predict)\n",
        "overall_selection_rate = no1/np.size(y_predict)\n",
        "print(\"The overall selection rate is \",overall_selection_rate)\n",
        "\n",
        "sex1_count = 0\n",
        "for i in range(np.size(y_predict)):\n",
        "  if y_predict[i]==1 and X_test[i,1]==1:\n",
        "    sex1_count +=1\n",
        "print(\"Selection rate for SEX==1 is\", sex1_count/np.size(y_predict))\n",
        "sex2_count = no1-sex1_count\n",
        "print(\"Selection rate for SEX==2 is\", sex2_count/np.size(y_predict))\n",
        "print(\"Difference of counts number between 2. and 3. is\", sex2_count-sex1_count)\n",
        "print(\"Ratio of 2. and 3. is\", sex2_count/sex1_count)"
      ],
      "execution_count": 5,
      "outputs": [
        {
          "output_type": "stream",
          "text": [
            "The overall selection rate is  0.113\n",
            "Selection rate for SEX==1 is 0.0375\n",
            "Selection rate for SEX==2 is 0.0755\n",
            "Difference of counts number between 2. and 3. is 228\n",
            "Ratio of 2. and 3. is 2.013333333333333\n"
          ],
          "name": "stdout"
        }
      ]
    },
    {
      "cell_type": "markdown",
      "metadata": {
        "id": "R1Yn6sXXyXIa"
      },
      "source": [
        "There is a new Python package called `fairlearn` that aims to help machine learning researchers use fairness techniques more easily. Go ahead and download this package (`pip install fairlearn` or `conda install fairlearn`). Note: the authors of `fairlearn` call 'statistical parity' from the textbook as 'demographic parity'.\n",
        "\n",
        "We will use `selection_rate`, `demographic_parity_difference`, `demographic_parity_ratio` from `fairlearn.metrics` to calculate 1., 4. and 5. above. The way to use these functions is: first argument `Y_test`, second argument `Y_prediction`, and for `demographic_parity_difference` and `demographic_parity_ratio` you need to give a keyword argument for the 'sensitive feature' by `sensitive_features=SF_test`.\n",
        "\n",
        "Use these three functions and confirm your earlier calculations for 1., 4. and 5."
      ]
    },
    {
      "cell_type": "code",
      "metadata": {
        "id": "Lc9HTbgn4ZpZ",
        "colab": {
          "base_uri": "https://localhost:8080/"
        },
        "outputId": "1fa98061-e119-42eb-c0fd-49aba44881e5"
      },
      "source": [
        "pip install fairlearn"
      ],
      "execution_count": 6,
      "outputs": [
        {
          "output_type": "stream",
          "text": [
            "Collecting fairlearn\n",
            "\u001b[?25l  Downloading https://files.pythonhosted.org/packages/3a/c6/64bdd611982cd2afef284f10022d1003b266ae7f86914418b8deda3ce2b2/fairlearn-0.5.0-py3-none-any.whl (24.6MB)\n",
            "\u001b[K     |████████████████████████████████| 24.6MB 1.5MB/s \n",
            "\u001b[?25hRequirement already satisfied: scipy>=1.4.1 in /usr/local/lib/python3.6/dist-packages (from fairlearn) (1.4.1)\n",
            "Requirement already satisfied: scikit-learn>=0.22.1 in /usr/local/lib/python3.6/dist-packages (from fairlearn) (0.22.2.post1)\n",
            "Requirement already satisfied: pandas>=0.25.1 in /usr/local/lib/python3.6/dist-packages (from fairlearn) (1.1.4)\n",
            "Requirement already satisfied: numpy>=1.17.2 in /usr/local/lib/python3.6/dist-packages (from fairlearn) (1.18.5)\n",
            "Requirement already satisfied: joblib>=0.11 in /usr/local/lib/python3.6/dist-packages (from scikit-learn>=0.22.1->fairlearn) (0.17.0)\n",
            "Requirement already satisfied: pytz>=2017.2 in /usr/local/lib/python3.6/dist-packages (from pandas>=0.25.1->fairlearn) (2018.9)\n",
            "Requirement already satisfied: python-dateutil>=2.7.3 in /usr/local/lib/python3.6/dist-packages (from pandas>=0.25.1->fairlearn) (2.8.1)\n",
            "Requirement already satisfied: six>=1.5 in /usr/local/lib/python3.6/dist-packages (from python-dateutil>=2.7.3->pandas>=0.25.1->fairlearn) (1.15.0)\n",
            "Installing collected packages: fairlearn\n",
            "Successfully installed fairlearn-0.5.0\n"
          ],
          "name": "stdout"
        }
      ]
    },
    {
      "cell_type": "code",
      "metadata": {
        "id": "I27r9Mx1yXIa",
        "colab": {
          "base_uri": "https://localhost:8080/"
        },
        "outputId": "5e0acff4-69de-442c-a32d-87545b6098fd"
      },
      "source": [
        "from fairlearn.metrics import selection_rate, demographic_parity_difference, demographic_parity_ratio\n",
        "\n",
        "print(\"selection rate is\", selection_rate(y_test,y_predict,pos_label=1))\n",
        "print(\"demographic parity difference is\",demographic_parity_difference(y_test,y_predict,sensitive_features=SF_test))\n",
        "print(\"demographic parity ratio is\",demographic_parity_ratio(y_test,y_predict,sensitive_features=SF_test))"
      ],
      "execution_count": 7,
      "outputs": [
        {
          "output_type": "stream",
          "text": [
            "selection rate is 0.113\n",
            "demographic parity difference is 0.02746679536300732\n",
            "demographic parity ratio is 0.7779615792067709\n"
          ],
          "name": "stdout"
        }
      ]
    },
    {
      "cell_type": "markdown",
      "metadata": {
        "id": "XViy0I5EyXIa"
      },
      "source": [
        "### Part c\n",
        "### Mitigating Unfairness with Giving Weights to Datapoints\n",
        "\n",
        "Now we are going to use the `GridSearch` function from `fairlearn.reductions` to try to mitigate this statistical parity discrepancy. This is one of the many ways to achieve this. What this function does is it gives higher weights to certain datapoints (determined by the sensitive feature) in order to change what the model learns. It automatically uses grid search to determine which weight should be given to `SEX==1` datapoints vs `SEX==2` datapoints (if you're interested you can read the source code). While it is called grid search, the space it searches is 1-dimensional. For our purposes, `GridSearch` takes four arguments: \n",
        "\n",
        "1. The model you defined above. This is a non-keyword argument.\n",
        "2. Constraint. This needs to be an object defined by `fairlearn`, the class we will be using is `fairlearn.reductions.DemographicParity`. It corresponds to minimizing the difference in selection rates (4. from above). This is a non-keyword argument.\n",
        "3. (Keyword argument) `grid_limit`. This determines the boundaries of the grid search. Basically, the `GridSearch` function will search the interval \\[-`grid_limit`,`grid_limit`\\] to find the weights. Choose this to be 0.8.\n",
        "3. (Keyword argument) `grid_size`. This determines how many points there will be in the grid search. Choose this to be 21.\n",
        "\n",
        "Just like `sklearn.model_selection.GridSearchCV` we have seen in HW1, `fairlearn.reductions.GridSearch` is also a wrapper, so you need to call `.fit()` on this wrapper (not the model directly). Training should be done in less than 5 minutes. In the end this wrapper will contain `grid_size` many models, each corresponding to a different weight for datapoints."
      ]
    },
    {
      "cell_type": "code",
      "metadata": {
        "id": "67Y6ezsJyXIa"
      },
      "source": [
        "from fairlearn.reductions import GridSearch, DemographicParity\n",
        "fairlearn_gs = GridSearch(estimator=clf,constraints=DemographicParity(),grid_size=21,grid_limit=0.2)\n",
        "fairlearn_gs.fit(X_train,y_train,sensitive_features=X_train[:,1])\n",
        "predictors = fairlearn_gs.predictors_"
      ],
      "execution_count": 48,
      "outputs": []
    },
    {
      "cell_type": "markdown",
      "metadata": {
        "id": "15EO5RaTyXIa"
      },
      "source": [
        "The `GridSearch` wrapper object you trained has a field called `predictors_`. This gives a list of all the models trained in this grid search, which will be of size `grid_size`."
      ]
    },
    {
      "cell_type": "code",
      "metadata": {
        "id": "B7HdpQm_yXIa"
      },
      "source": [
        "predictions_sweep = [predictor.predict(X_test) for predictor in fairlearn_gs.predictors_] \n",
        "accuracy_sweep = [predictor.score(X_test, y_test) for predictor in fairlearn_gs.predictors_] "
      ],
      "execution_count": 49,
      "outputs": []
    },
    {
      "cell_type": "markdown",
      "metadata": {
        "id": "tXGkicwxyXIa"
      },
      "source": [
        "Notice that `predictions_sweep` is a 21 element list. Each of these elements is a numpy array that contains the predictions (`Y_pred`) for `X_test` for that particular model. Use `demographic_parity_difference` like you did above to find the difference in selection rates for each of these models and store these 'fairness metrics' in a numpy array (it too will be size 21)."
      ]
    },
    {
      "cell_type": "code",
      "metadata": {
        "id": "SZ-bxFwmyXIa",
        "colab": {
          "base_uri": "https://localhost:8080/"
        },
        "outputId": "f7a0c04d-fcf5-4e69-a0e9-7e9d176c5828"
      },
      "source": [
        "from sklearn.metrics import accuracy_score\n",
        "fairness_metrics = []\n",
        "for element in predictions_sweep: \n",
        "  fairness_metrics.append(demographic_parity_difference(y_test,element,sensitive_features=SF_test))\n",
        "fairness_metrics"
      ],
      "execution_count": 50,
      "outputs": [
        {
          "output_type": "execute_result",
          "data": {
            "text/plain": [
              "[0.07680013305681686,\n",
              " 0.058316308009712034,\n",
              " 0.05376607322142793,\n",
              " 0.04882432996221803,\n",
              " 0.03352536559089046,\n",
              " 0.024332858820083153,\n",
              " 0.018844965915870523,\n",
              " 0.021611921666536624,\n",
              " 0.010947286981782711,\n",
              " 0.026956853243657028,\n",
              " 0.02746679536300732,\n",
              " 0.029950865219704942,\n",
              " 0.03532032447549312,\n",
              " 0.04008103010644079,\n",
              " 0.06372688032688621,\n",
              " 0.0696062817020247,\n",
              " 0.08151972562637852,\n",
              " 0.08848161522005535,\n",
              " 0.0931699057996981,\n",
              " 0.09558156060509082,\n",
              " 0.09713778341732701]"
            ]
          },
          "metadata": {
            "tags": []
          },
          "execution_count": 50
        }
      ]
    },
    {
      "cell_type": "markdown",
      "metadata": {
        "id": "ydkOWKGJyXIa"
      },
      "source": [
        "Plot the accuracy vs difference in selection rates for all these models in a scatter plot."
      ]
    },
    {
      "cell_type": "code",
      "metadata": {
        "id": "TecSOnrNhH3a",
        "colab": {
          "base_uri": "https://localhost:8080/"
        },
        "outputId": "78bf2b90-1aa2-4ade-c515-337bf84aae4c"
      },
      "source": [
        "pip install ipympl"
      ],
      "execution_count": 26,
      "outputs": [
        {
          "output_type": "stream",
          "text": [
            "Requirement already satisfied: ipympl in /usr/local/lib/python3.6/dist-packages (0.5.8)\n",
            "Requirement already satisfied: ipykernel>=4.7 in /usr/local/lib/python3.6/dist-packages (from ipympl) (4.10.1)\n",
            "Requirement already satisfied: ipywidgets>=7.5.0 in /usr/local/lib/python3.6/dist-packages (from ipympl) (7.5.1)\n",
            "Requirement already satisfied: matplotlib>=2.0.0 in /usr/local/lib/python3.6/dist-packages (from ipympl) (3.2.2)\n",
            "Requirement already satisfied: tornado>=4.0 in /usr/local/lib/python3.6/dist-packages (from ipykernel>=4.7->ipympl) (5.1.1)\n",
            "Requirement already satisfied: jupyter-client in /usr/local/lib/python3.6/dist-packages (from ipykernel>=4.7->ipympl) (5.3.5)\n",
            "Requirement already satisfied: traitlets>=4.1.0 in /usr/local/lib/python3.6/dist-packages (from ipykernel>=4.7->ipympl) (4.3.3)\n",
            "Requirement already satisfied: ipython>=4.0.0 in /usr/local/lib/python3.6/dist-packages (from ipykernel>=4.7->ipympl) (5.5.0)\n",
            "Requirement already satisfied: widgetsnbextension~=3.5.0 in /usr/local/lib/python3.6/dist-packages (from ipywidgets>=7.5.0->ipympl) (3.5.1)\n",
            "Requirement already satisfied: nbformat>=4.2.0 in /usr/local/lib/python3.6/dist-packages (from ipywidgets>=7.5.0->ipympl) (5.0.8)\n",
            "Requirement already satisfied: numpy>=1.11 in /usr/local/lib/python3.6/dist-packages (from matplotlib>=2.0.0->ipympl) (1.18.5)\n",
            "Requirement already satisfied: pyparsing!=2.0.4,!=2.1.2,!=2.1.6,>=2.0.1 in /usr/local/lib/python3.6/dist-packages (from matplotlib>=2.0.0->ipympl) (2.4.7)\n",
            "Requirement already satisfied: cycler>=0.10 in /usr/local/lib/python3.6/dist-packages (from matplotlib>=2.0.0->ipympl) (0.10.0)\n",
            "Requirement already satisfied: python-dateutil>=2.1 in /usr/local/lib/python3.6/dist-packages (from matplotlib>=2.0.0->ipympl) (2.8.1)\n",
            "Requirement already satisfied: kiwisolver>=1.0.1 in /usr/local/lib/python3.6/dist-packages (from matplotlib>=2.0.0->ipympl) (1.3.1)\n",
            "Requirement already satisfied: pyzmq>=13 in /usr/local/lib/python3.6/dist-packages (from jupyter-client->ipykernel>=4.7->ipympl) (20.0.0)\n",
            "Requirement already satisfied: jupyter-core>=4.6.0 in /usr/local/lib/python3.6/dist-packages (from jupyter-client->ipykernel>=4.7->ipympl) (4.7.0)\n",
            "Requirement already satisfied: six in /usr/local/lib/python3.6/dist-packages (from traitlets>=4.1.0->ipykernel>=4.7->ipympl) (1.15.0)\n",
            "Requirement already satisfied: ipython-genutils in /usr/local/lib/python3.6/dist-packages (from traitlets>=4.1.0->ipykernel>=4.7->ipympl) (0.2.0)\n",
            "Requirement already satisfied: decorator in /usr/local/lib/python3.6/dist-packages (from traitlets>=4.1.0->ipykernel>=4.7->ipympl) (4.4.2)\n",
            "Requirement already satisfied: pexpect; sys_platform != \"win32\" in /usr/local/lib/python3.6/dist-packages (from ipython>=4.0.0->ipykernel>=4.7->ipympl) (4.8.0)\n",
            "Requirement already satisfied: pygments in /usr/local/lib/python3.6/dist-packages (from ipython>=4.0.0->ipykernel>=4.7->ipympl) (2.6.1)\n",
            "Requirement already satisfied: simplegeneric>0.8 in /usr/local/lib/python3.6/dist-packages (from ipython>=4.0.0->ipykernel>=4.7->ipympl) (0.8.1)\n",
            "Requirement already satisfied: setuptools>=18.5 in /usr/local/lib/python3.6/dist-packages (from ipython>=4.0.0->ipykernel>=4.7->ipympl) (50.3.2)\n",
            "Requirement already satisfied: prompt-toolkit<2.0.0,>=1.0.4 in /usr/local/lib/python3.6/dist-packages (from ipython>=4.0.0->ipykernel>=4.7->ipympl) (1.0.18)\n",
            "Requirement already satisfied: pickleshare in /usr/local/lib/python3.6/dist-packages (from ipython>=4.0.0->ipykernel>=4.7->ipympl) (0.7.5)\n",
            "Requirement already satisfied: notebook>=4.4.1 in /usr/local/lib/python3.6/dist-packages (from widgetsnbextension~=3.5.0->ipywidgets>=7.5.0->ipympl) (5.3.1)\n",
            "Requirement already satisfied: jsonschema!=2.5.0,>=2.4 in /usr/local/lib/python3.6/dist-packages (from nbformat>=4.2.0->ipywidgets>=7.5.0->ipympl) (2.6.0)\n",
            "Requirement already satisfied: ptyprocess>=0.5 in /usr/local/lib/python3.6/dist-packages (from pexpect; sys_platform != \"win32\"->ipython>=4.0.0->ipykernel>=4.7->ipympl) (0.6.0)\n",
            "Requirement already satisfied: wcwidth in /usr/local/lib/python3.6/dist-packages (from prompt-toolkit<2.0.0,>=1.0.4->ipython>=4.0.0->ipykernel>=4.7->ipympl) (0.2.5)\n",
            "Requirement already satisfied: nbconvert in /usr/local/lib/python3.6/dist-packages (from notebook>=4.4.1->widgetsnbextension~=3.5.0->ipywidgets>=7.5.0->ipympl) (5.6.1)\n",
            "Requirement already satisfied: terminado>=0.8.1 in /usr/local/lib/python3.6/dist-packages (from notebook>=4.4.1->widgetsnbextension~=3.5.0->ipywidgets>=7.5.0->ipympl) (0.9.1)\n",
            "Requirement already satisfied: jinja2 in /usr/local/lib/python3.6/dist-packages (from notebook>=4.4.1->widgetsnbextension~=3.5.0->ipywidgets>=7.5.0->ipympl) (2.11.2)\n",
            "Requirement already satisfied: Send2Trash in /usr/local/lib/python3.6/dist-packages (from notebook>=4.4.1->widgetsnbextension~=3.5.0->ipywidgets>=7.5.0->ipympl) (1.5.0)\n",
            "Requirement already satisfied: mistune<2,>=0.8.1 in /usr/local/lib/python3.6/dist-packages (from nbconvert->notebook>=4.4.1->widgetsnbextension~=3.5.0->ipywidgets>=7.5.0->ipympl) (0.8.4)\n",
            "Requirement already satisfied: defusedxml in /usr/local/lib/python3.6/dist-packages (from nbconvert->notebook>=4.4.1->widgetsnbextension~=3.5.0->ipywidgets>=7.5.0->ipympl) (0.6.0)\n",
            "Requirement already satisfied: entrypoints>=0.2.2 in /usr/local/lib/python3.6/dist-packages (from nbconvert->notebook>=4.4.1->widgetsnbextension~=3.5.0->ipywidgets>=7.5.0->ipympl) (0.3)\n",
            "Requirement already satisfied: bleach in /usr/local/lib/python3.6/dist-packages (from nbconvert->notebook>=4.4.1->widgetsnbextension~=3.5.0->ipywidgets>=7.5.0->ipympl) (3.2.1)\n",
            "Requirement already satisfied: testpath in /usr/local/lib/python3.6/dist-packages (from nbconvert->notebook>=4.4.1->widgetsnbextension~=3.5.0->ipywidgets>=7.5.0->ipympl) (0.4.4)\n",
            "Requirement already satisfied: pandocfilters>=1.4.1 in /usr/local/lib/python3.6/dist-packages (from nbconvert->notebook>=4.4.1->widgetsnbextension~=3.5.0->ipywidgets>=7.5.0->ipympl) (1.4.3)\n",
            "Requirement already satisfied: MarkupSafe>=0.23 in /usr/local/lib/python3.6/dist-packages (from jinja2->notebook>=4.4.1->widgetsnbextension~=3.5.0->ipywidgets>=7.5.0->ipympl) (1.1.1)\n",
            "Requirement already satisfied: webencodings in /usr/local/lib/python3.6/dist-packages (from bleach->nbconvert->notebook>=4.4.1->widgetsnbextension~=3.5.0->ipywidgets>=7.5.0->ipympl) (0.5.1)\n",
            "Requirement already satisfied: packaging in /usr/local/lib/python3.6/dist-packages (from bleach->nbconvert->notebook>=4.4.1->widgetsnbextension~=3.5.0->ipywidgets>=7.5.0->ipympl) (20.4)\n"
          ],
          "name": "stdout"
        }
      ]
    },
    {
      "cell_type": "code",
      "metadata": {
        "id": "xOxhh6wEymcK",
        "outputId": "aa979e07-c06c-4db1-897a-bef50048d9a2",
        "colab": {
          "base_uri": "https://localhost:8080/"
        }
      },
      "source": [
        "pip install matplotlib"
      ],
      "execution_count": 20,
      "outputs": [
        {
          "output_type": "stream",
          "text": [
            "Requirement already satisfied: matplotlib in /usr/local/lib/python3.6/dist-packages (3.2.2)\n",
            "Requirement already satisfied: kiwisolver>=1.0.1 in /usr/local/lib/python3.6/dist-packages (from matplotlib) (1.3.1)\n",
            "Requirement already satisfied: cycler>=0.10 in /usr/local/lib/python3.6/dist-packages (from matplotlib) (0.10.0)\n",
            "Requirement already satisfied: numpy>=1.11 in /usr/local/lib/python3.6/dist-packages (from matplotlib) (1.18.5)\n",
            "Requirement already satisfied: pyparsing!=2.0.4,!=2.1.2,!=2.1.6,>=2.0.1 in /usr/local/lib/python3.6/dist-packages (from matplotlib) (2.4.7)\n",
            "Requirement already satisfied: python-dateutil>=2.1 in /usr/local/lib/python3.6/dist-packages (from matplotlib) (2.8.1)\n",
            "Requirement already satisfied: six in /usr/local/lib/python3.6/dist-packages (from cycler>=0.10->matplotlib) (1.15.0)\n"
          ],
          "name": "stdout"
        }
      ]
    },
    {
      "cell_type": "code",
      "metadata": {
        "id": "zzW_0fq2yXIa",
        "colab": {
          "base_uri": "https://localhost:8080/",
          "height": 17,
          "referenced_widgets": [
            "9dbe19f20f8446b996fd436359ea40de"
          ]
        },
        "outputId": "a2a7ed3c-3c05-4a52-a765-de14bf640809"
      },
      "source": [
        "import matplotlib.pyplot as plt\n",
        "# %matplotlib widget\n",
        "plt.figure()\n",
        "plt.scatter(accuracy_sweep,fairness_metrics,label=\"GridSearch\")\n",
        "plt.xlabel(\"Accuracy\")\n",
        "plt.ylabel(\"Demographic Parity Difference\")\n",
        "plt.show();"
      ],
      "execution_count": 51,
      "outputs": [
        {
          "output_type": "display_data",
          "data": {
            "application/vnd.jupyter.widget-view+json": {
              "model_id": "9dbe19f20f8446b996fd436359ea40de",
              "version_minor": 0,
              "version_major": 2
            },
            "text/plain": [
              "Canvas(toolbar=Toolbar(toolitems=[('Home', 'Reset original view', 'home', 'home'), ('Back', 'Back to previous …"
            ]
          },
          "metadata": {
            "tags": []
          }
        }
      ]
    },
    {
      "cell_type": "markdown",
      "metadata": {
        "id": "uLrO9mVFyXIa"
      },
      "source": [
        "### Part d \n",
        "\n",
        "Now calculate the *pareto front*: go over each (accuracy, difference in selection rates) pair and compare it to every other pair. If you find the first pair to have lower accuracy and higher difference in selection rate, discard it."
      ]
    },
    {
      "cell_type": "code",
      "metadata": {
        "id": "4ElVQmrHyXIa",
        "colab": {
          "base_uri": "https://localhost:8080/"
        },
        "outputId": "30cd613a-aba6-4c25-9f77-d9b427c67323"
      },
      "source": [
        "accuracy_sweep_pareto = np.copy(accuracy_sweep)\n",
        "fairness_metrics_pareto = np.copy(fairness_metrics)\n",
        "pareto = np.column_stack((accuracy_sweep_pareto,fairness_metrics_pareto))\n",
        "sort_pareto = pareto[np.argsort(pareto[:, 0])]\n",
        "sort_pareto = sort_pareto[::-1]\n",
        "\n",
        "max_accuracy = sort_pareto[-1,0]\n",
        "min_parity = sort_pareto[-1,1]\n",
        "\n",
        "for i in range(np.size(sort_pareto,0)):\n",
        "  if sort_pareto[i,1] <= min_parity:\n",
        "    print(sort_pareto[i,1])\n",
        "    min_parity = sort_pareto[i,1]\n",
        "  else:\n",
        "    index = np.where(pareto[:,1] == sort_pareto[i,1])\n",
        "    print(\"delete\", index[0])\n",
        "    pareto = np.delete(pareto,index[0],0)\n",
        "\n",
        "pareto"
      ],
      "execution_count": 52,
      "outputs": [
        {
          "output_type": "stream",
          "text": [
            "0.018844965915870523\n",
            "delete [7]\n",
            "delete [5]\n",
            "delete [4]\n",
            "delete [3]\n",
            "delete [2]\n",
            "delete [1]\n",
            "delete [13]\n",
            "delete [13]\n",
            "delete [12]\n",
            "delete [9]\n",
            "delete [10]\n",
            "delete [0]\n",
            "delete [8]\n",
            "delete [7]\n",
            "0.010947286981782711\n",
            "delete [4]\n",
            "delete [2]\n",
            "delete [2]\n",
            "delete [2]\n",
            "delete [2]\n"
          ],
          "name": "stdout"
        },
        {
          "output_type": "execute_result",
          "data": {
            "text/plain": [
              "array([[0.848     , 0.01884497],\n",
              "       [0.8395    , 0.01094729]])"
            ]
          },
          "metadata": {
            "tags": []
          },
          "execution_count": 52
        }
      ]
    },
    {
      "cell_type": "markdown",
      "metadata": {
        "id": "23SaZvzSyXIa"
      },
      "source": [
        "* Plot the accuracy vs difference in selection rates for all the models the grid search in a scatter plot.\n",
        "* On the same plot, plot the accuracy vs difference in selection rates for the points on the pareto front. Make these points red."
      ]
    },
    {
      "cell_type": "code",
      "metadata": {
        "id": "IGAsufEOyXIa",
        "colab": {
          "base_uri": "https://localhost:8080/",
          "height": 17,
          "referenced_widgets": [
            "e267873105bb46658bd0529a5442e8c2"
          ]
        },
        "outputId": "0e493b98-916f-4a2e-e6af-83d67f1f3687"
      },
      "source": [
        "plt.figure()\n",
        "plt.scatter(accuracy_sweep,fairness_metrics,label=\"GridSearch\")\n",
        "plt.plot(pareto[:,0],pareto[:,1],\"o-\",label=\"Pareto\",color=\"tab:red\")\n",
        "plt.xlabel(\"Accuracy\")\n",
        "plt.ylabel(\"Demographic Parity Difference\")\n",
        "plt.legend()\n",
        "plt.show();"
      ],
      "execution_count": 53,
      "outputs": [
        {
          "output_type": "display_data",
          "data": {
            "application/vnd.jupyter.widget-view+json": {
              "model_id": "e267873105bb46658bd0529a5442e8c2",
              "version_minor": 0,
              "version_major": 2
            },
            "text/plain": [
              "Canvas(toolbar=Toolbar(toolitems=[('Home', 'Reset original view', 'home', 'home'), ('Back', 'Back to previous …"
            ]
          },
          "metadata": {
            "tags": []
          }
        }
      ]
    },
    {
      "cell_type": "markdown",
      "metadata": {
        "id": "hKA_zKOByXIa"
      },
      "source": [
        "Which one of these models would you choose to use? Why?"
      ]
    },
    {
      "cell_type": "markdown",
      "metadata": {
        "id": "K-qHCrNsyXIa"
      },
      "source": [
        "## Problem 3\n",
        "\n",
        "This problem builds on ideas from paper 2a in Module 1: “Against prediction: Sentencing, Policing, And Punishing In An Actuarial Age,” Chicago Public Law And Legal Theory Working Paper No. 94, Harcourt, 2005. \n",
        "\n",
        "Suppose we have two groups $A$ and $B$ of population sizes $n$ and $9n$. We find that under equal surveillance, group $A$’s offending rate is $2$ offenses per month per person and that of group $B$ is $1$ offense per person per month (See Figure on page 17 of the above paper). Equal surveillance means that out of a total of $10m$ monitors, $m$ monitors are assigned to group $A$ and $9m$ monitors are assigned to group $B$. The surveillance is $\\frac{m}{n}$ per capita for both groups. So, under equal surveillance, the combined offending rate over both groups is $11n$ per month. \n",
        "\n",
        "Suppose we want to bring down the overall offending rate by increasing the monitors for group $A$. In order to do that we collected some data and found that we could model the rate of decrease in offenses for group $A$ by a function as follows:\n",
        "\tIf we increase the per capita surveillance from $\\frac{m}{n}$ to $\\frac{m}{n} (1 + \\delta_A)$, the offending rate declines to $2e^{- \\alpha \\delta_A}$. ($\\alpha>0$)\n",
        "\n",
        "Similarly, we modeled the rate of increase in offenses for group $B$ by a function under reduced surveillance as follows:\n",
        "\tIf we decrease the per capita monitoring rate from $\\frac{m}{n}$ to $\\frac{m}{n} (1 - \\delta_B)$, the offending rate rises to $e^{ \\beta \\delta_B}$. ($\\beta>0$)\n",
        "\n",
        "How would you distribute the monitors so that \n",
        "\n",
        "**a)** Both groups had the same offending rate?\n",
        "\n",
        "**b)** The combined offending amount was minimized?\n",
        "\n",
        "\n",
        "Consider 3 different scenarios when $\\alpha > \\beta$, $\\alpha = \\beta$, and $\\alpha < \\beta$. \n",
        "\n",
        "**c)** For each of the scenarios, which of the above solutions would you prefer and why?\n",
        "\n",
        "**TIPS**:\n",
        "- For **part a** and **part b**, answer by calculating $\\delta_A$ and $\\delta_B$.\n",
        "- Try to set up equations from the given information. This problem mostly consists of algebra.\n",
        "- If you do it correctly, **part c** should makes sense immediately.\n"
      ]
    },
    {
      "cell_type": "markdown",
      "metadata": {
        "id": "j6Oqj2ZV0Ajr"
      },
      "source": [
        "a)\n",
        "\n",
        "Known variables: $\\alpha, \\beta, m, n$. ($\\alpha, \\beta>0$）\n",
        "\n",
        "\n",
        "Unknown variables: $\\delta_B, \\delta_A$, and the number of devices shifted, which is x.\n",
        "\n",
        "The three equations are:\n",
        "\n",
        "1.    $\\frac{m}{n} (1 + \\delta_A) = \\frac{m+x}{n}$\n",
        "2.   $\\frac{m}{n} (1 - \\delta_B) = \\frac{9m-x}{9n}$\n",
        "3.   $2e^{- \\alpha \\delta_A} = e^{ \\beta \\delta_B}$\n",
        "\n",
        "By solving the first two equations, we can get that $\\delta_A =9 \\delta_B$, substitute into the third equation, we get $2e^{- 9 \\alpha \\delta_B} = e^{ \\beta \\delta_B}$. Upon solving, we get $\\delta_B = \\frac{ln(2)}{9\\alpha+\\beta}$, $\\delta_A = 9\\frac{ln(2)}{9\\alpha+\\beta}$.\n"
      ]
    },
    {
      "cell_type": "markdown",
      "metadata": {
        "id": "XWlEfzxs26vB"
      },
      "source": [
        "b)\n",
        "\n",
        "Same as a), we have $\\delta_A =9 \\delta_B$. The third equation changed to $\\frac{d}{d\\delta_A}(2e^{- \\alpha \\delta_A} \\times n + e^{ \\beta \\delta_B} \\times 9n) = 0$. After substitution, we have $\\frac{d}{d\\delta_B}(2e^{- 9\\alpha \\delta_B} \\times n + e^{ \\beta \\delta_B} \\times 9n) = 0$.\n",
        "\n",
        "After solving the equation, we get $\\delta_B = \\frac{ln(\\frac{2\\alpha}{\\beta})}{9\\alpha+\\beta}$, $\\delta_A = 9\\frac{ln(\\frac{2\\alpha}{\\beta})}{9\\alpha+\\beta}$."
      ]
    },
    {
      "cell_type": "markdown",
      "metadata": {
        "id": "88L22x8H4xxc"
      },
      "source": [
        "c) \n",
        "Plot combined offering rate vs. $\\delta_B$ for $\\alpha$ and $\\beta$ ranging from 0 to 3. Reference: https://ipywidgets.readthedocs.io/en/stable/examples/Using%20Interact.html#Flickering-and-jumping-output"
      ]
    },
    {
      "cell_type": "code",
      "metadata": {
        "id": "Qsu0_-JG4weo",
        "outputId": "e27392de-5d71-4254-e452-ee6b35c6f98a",
        "colab": {
          "base_uri": "https://localhost:8080/",
          "height": 436
        }
      },
      "source": [
        "from ipywidgets import interactive\n",
        "import math\n",
        "\n",
        "# plot the complete graph\n",
        "alpha = np.linspace(0.,3.,num=100)\n",
        "beta = np.linspace(0.,3.,num=100)\n",
        "delta_b = np.log(2)/(9*alpha+beta)\n",
        "print(np.shape(delta_b))\n",
        "plt.plot(delta_b,function(alpha,beta,delta_b))\n",
        "plt.ylim(1,4)\n",
        "plt.show()\n",
        "\n",
        "def function(alpha,beta,delta_b):\n",
        "  return 2* math.exp(-9*alpha*delta_b) + math.exp(beta*delta_b)\n",
        "\n",
        "# plot the interactive marker\n",
        "fig, ax = plt.subplots()\n",
        "def update(alpha,beta):\n",
        "  delta_b = np.log(2)/(9*alpha+beta)\n",
        "  plt.scatter(delta_b,function(alpha,beta,delta_b),c=colr)\n",
        "  plt.ylim(1,4)\n",
        "  # fig.canvas.draw_idle()\n",
        "  # plt.show()\n",
        "  return()\n",
        "\n",
        "interactive(update, alpha=(0.,3.,0.01),beta=(0.,3.,0.01),colr=[\"red\",\"orange\"])"
      ],
      "execution_count": 62,
      "outputs": [
        {
          "output_type": "stream",
          "text": [
            "(100,)\n"
          ],
          "name": "stdout"
        },
        {
          "output_type": "stream",
          "text": [
            "/usr/local/lib/python3.6/dist-packages/ipykernel_launcher.py:7: RuntimeWarning: divide by zero encountered in true_divide\n",
            "  import sys\n",
            "/usr/local/lib/python3.6/dist-packages/ipykernel_launcher.py:7: RuntimeWarning: invalid value encountered in multiply\n",
            "  import sys\n"
          ],
          "name": "stderr"
        },
        {
          "output_type": "error",
          "ename": "TypeError",
          "evalue": "ignored",
          "traceback": [
            "\u001b[0;31m---------------------------------------------------------------------------\u001b[0m",
            "\u001b[0;31mTypeError\u001b[0m                                 Traceback (most recent call last)",
            "\u001b[0;32m<ipython-input-62-52266b61e0d3>\u001b[0m in \u001b[0;36m<module>\u001b[0;34m()\u001b[0m\n\u001b[1;32m      7\u001b[0m \u001b[0mdelta_b\u001b[0m \u001b[0;34m=\u001b[0m \u001b[0mnp\u001b[0m\u001b[0;34m.\u001b[0m\u001b[0mlog\u001b[0m\u001b[0;34m(\u001b[0m\u001b[0;36m2\u001b[0m\u001b[0;34m)\u001b[0m\u001b[0;34m/\u001b[0m\u001b[0;34m(\u001b[0m\u001b[0;36m9\u001b[0m\u001b[0;34m*\u001b[0m\u001b[0malpha\u001b[0m\u001b[0;34m+\u001b[0m\u001b[0mbeta\u001b[0m\u001b[0;34m)\u001b[0m\u001b[0;34m\u001b[0m\u001b[0;34m\u001b[0m\u001b[0m\n\u001b[1;32m      8\u001b[0m \u001b[0mprint\u001b[0m\u001b[0;34m(\u001b[0m\u001b[0mnp\u001b[0m\u001b[0;34m.\u001b[0m\u001b[0mshape\u001b[0m\u001b[0;34m(\u001b[0m\u001b[0mdelta_b\u001b[0m\u001b[0;34m)\u001b[0m\u001b[0;34m)\u001b[0m\u001b[0;34m\u001b[0m\u001b[0;34m\u001b[0m\u001b[0m\n\u001b[0;32m----> 9\u001b[0;31m \u001b[0mplt\u001b[0m\u001b[0;34m.\u001b[0m\u001b[0mplot\u001b[0m\u001b[0;34m(\u001b[0m\u001b[0mdelta_b\u001b[0m\u001b[0;34m,\u001b[0m\u001b[0mfunction\u001b[0m\u001b[0;34m(\u001b[0m\u001b[0malpha\u001b[0m\u001b[0;34m,\u001b[0m\u001b[0mbeta\u001b[0m\u001b[0;34m,\u001b[0m\u001b[0mdelta_b\u001b[0m\u001b[0;34m)\u001b[0m\u001b[0;34m)\u001b[0m\u001b[0;34m\u001b[0m\u001b[0;34m\u001b[0m\u001b[0m\n\u001b[0m\u001b[1;32m     10\u001b[0m \u001b[0mplt\u001b[0m\u001b[0;34m.\u001b[0m\u001b[0mylim\u001b[0m\u001b[0;34m(\u001b[0m\u001b[0;36m1\u001b[0m\u001b[0;34m,\u001b[0m\u001b[0;36m4\u001b[0m\u001b[0;34m)\u001b[0m\u001b[0;34m\u001b[0m\u001b[0;34m\u001b[0m\u001b[0m\n\u001b[1;32m     11\u001b[0m \u001b[0mplt\u001b[0m\u001b[0;34m.\u001b[0m\u001b[0mshow\u001b[0m\u001b[0;34m(\u001b[0m\u001b[0;34m)\u001b[0m\u001b[0;34m\u001b[0m\u001b[0;34m\u001b[0m\u001b[0m\n",
            "\u001b[0;32m<ipython-input-58-75e7929b97f2>\u001b[0m in \u001b[0;36mfunction\u001b[0;34m(alpha, beta, delta_b)\u001b[0m\n\u001b[1;32m      5\u001b[0m \u001b[0;34m\u001b[0m\u001b[0m\n\u001b[1;32m      6\u001b[0m \u001b[0;32mdef\u001b[0m \u001b[0mfunction\u001b[0m\u001b[0;34m(\u001b[0m\u001b[0malpha\u001b[0m\u001b[0;34m,\u001b[0m\u001b[0mbeta\u001b[0m\u001b[0;34m,\u001b[0m\u001b[0mdelta_b\u001b[0m\u001b[0;34m)\u001b[0m\u001b[0;34m:\u001b[0m\u001b[0;34m\u001b[0m\u001b[0;34m\u001b[0m\u001b[0m\n\u001b[0;32m----> 7\u001b[0;31m   \u001b[0;32mreturn\u001b[0m \u001b[0;36m2\u001b[0m\u001b[0;34m*\u001b[0m \u001b[0mmath\u001b[0m\u001b[0;34m.\u001b[0m\u001b[0mexp\u001b[0m\u001b[0;34m(\u001b[0m\u001b[0;34m-\u001b[0m\u001b[0;36m9\u001b[0m\u001b[0;34m*\u001b[0m\u001b[0malpha\u001b[0m\u001b[0;34m*\u001b[0m\u001b[0mdelta_b\u001b[0m\u001b[0;34m)\u001b[0m \u001b[0;34m+\u001b[0m \u001b[0mmath\u001b[0m\u001b[0;34m.\u001b[0m\u001b[0mexp\u001b[0m\u001b[0;34m(\u001b[0m\u001b[0mbeta\u001b[0m\u001b[0;34m*\u001b[0m\u001b[0mdelta_b\u001b[0m\u001b[0;34m)\u001b[0m\u001b[0;34m\u001b[0m\u001b[0;34m\u001b[0m\u001b[0m\n\u001b[0m\u001b[1;32m      8\u001b[0m \u001b[0;34m\u001b[0m\u001b[0m\n\u001b[1;32m      9\u001b[0m \u001b[0;32mdef\u001b[0m \u001b[0mupdate\u001b[0m\u001b[0;34m(\u001b[0m\u001b[0malpha\u001b[0m\u001b[0;34m,\u001b[0m\u001b[0mbeta\u001b[0m\u001b[0;34m)\u001b[0m\u001b[0;34m:\u001b[0m\u001b[0;34m\u001b[0m\u001b[0;34m\u001b[0m\u001b[0m\n",
            "\u001b[0;31mTypeError\u001b[0m: only size-1 arrays can be converted to Python scalars"
          ]
        }
      ]
    }
  ]
}